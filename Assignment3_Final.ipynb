{
 "cells": [
  {
   "cell_type": "code",
   "execution_count": 24,
   "id": "da4275e3-1e11-43b5-9bc7-a0b19746e1c5",
   "metadata": {},
   "outputs": [],
   "source": [
    "import pandas as pd\n",
    "import numpy as np\n",
    "from plotnine import *\n",
    "%matplotlib inline\n",
    "from sklearn.neighbors import KNeighborsRegressor as knn\n",
    "import pandas as pd\n",
    "from sklearn.model_selection import cross_val_score\n",
    "from sklearn.model_selection import train_test_split\n",
    "from sklearn.metrics import classification_report\n",
    "from sklearn.metrics import roc_auc_score\n",
    "from sklearn.metrics import accuracy_score, confusion_matrix, roc_auc_score, roc_curve\n",
    "from sklearn.ensemble import  RandomForestClassifier\n",
    "from sklearn.linear_model import LogisticRegression\n",
    "from sklearn import datasets\n",
    "from sklearn.utils import resample\n",
    "from sklearn.ensemble import RandomForestRegressor as rf"
   ]
  },
  {
   "cell_type": "markdown",
   "id": "9238c30a-c413-443b-bf99-1343d6f0506d",
   "metadata": {},
   "source": [
    "### Part 1\n",
    "Find a good prediction model for the the median value of housing (MEDV) based on the datasheet"
   ]
  },
  {
   "cell_type": "code",
   "execution_count": 25,
   "id": "12844cba-6255-4ca7-a7f5-890afb786c14",
   "metadata": {},
   "outputs": [
    {
     "data": {
      "text/html": [
       "<div>\n",
       "<style scoped>\n",
       "    .dataframe tbody tr th:only-of-type {\n",
       "        vertical-align: middle;\n",
       "    }\n",
       "\n",
       "    .dataframe tbody tr th {\n",
       "        vertical-align: top;\n",
       "    }\n",
       "\n",
       "    .dataframe thead th {\n",
       "        text-align: right;\n",
       "    }\n",
       "</style>\n",
       "<table border=\"1\" class=\"dataframe\">\n",
       "  <thead>\n",
       "    <tr style=\"text-align: right;\">\n",
       "      <th></th>\n",
       "      <th>CRIM</th>\n",
       "      <th>ZN</th>\n",
       "      <th>INDUS</th>\n",
       "      <th>CHAS</th>\n",
       "      <th>NOX</th>\n",
       "      <th>RM</th>\n",
       "      <th>AGE</th>\n",
       "      <th>DIS</th>\n",
       "      <th>RAD</th>\n",
       "      <th>TAX</th>\n",
       "      <th>PTRATIO</th>\n",
       "      <th>B</th>\n",
       "      <th>LSTAT</th>\n",
       "      <th>MEDV</th>\n",
       "    </tr>\n",
       "  </thead>\n",
       "  <tbody>\n",
       "    <tr>\n",
       "      <th>0</th>\n",
       "      <td>0.00632</td>\n",
       "      <td>18.0</td>\n",
       "      <td>2.31</td>\n",
       "      <td>0.0</td>\n",
       "      <td>0.538</td>\n",
       "      <td>6.575</td>\n",
       "      <td>65.2</td>\n",
       "      <td>4.0900</td>\n",
       "      <td>1</td>\n",
       "      <td>296</td>\n",
       "      <td>15.3</td>\n",
       "      <td>396.90</td>\n",
       "      <td>4.98</td>\n",
       "      <td>24.0</td>\n",
       "    </tr>\n",
       "    <tr>\n",
       "      <th>1</th>\n",
       "      <td>0.02731</td>\n",
       "      <td>0.0</td>\n",
       "      <td>7.07</td>\n",
       "      <td>0.0</td>\n",
       "      <td>0.469</td>\n",
       "      <td>6.421</td>\n",
       "      <td>78.9</td>\n",
       "      <td>4.9671</td>\n",
       "      <td>2</td>\n",
       "      <td>242</td>\n",
       "      <td>17.8</td>\n",
       "      <td>396.90</td>\n",
       "      <td>9.14</td>\n",
       "      <td>21.6</td>\n",
       "    </tr>\n",
       "    <tr>\n",
       "      <th>2</th>\n",
       "      <td>0.02729</td>\n",
       "      <td>0.0</td>\n",
       "      <td>7.07</td>\n",
       "      <td>0.0</td>\n",
       "      <td>0.469</td>\n",
       "      <td>7.185</td>\n",
       "      <td>61.1</td>\n",
       "      <td>4.9671</td>\n",
       "      <td>2</td>\n",
       "      <td>242</td>\n",
       "      <td>17.8</td>\n",
       "      <td>392.83</td>\n",
       "      <td>4.03</td>\n",
       "      <td>34.7</td>\n",
       "    </tr>\n",
       "    <tr>\n",
       "      <th>3</th>\n",
       "      <td>0.03237</td>\n",
       "      <td>0.0</td>\n",
       "      <td>2.18</td>\n",
       "      <td>0.0</td>\n",
       "      <td>0.458</td>\n",
       "      <td>6.998</td>\n",
       "      <td>45.8</td>\n",
       "      <td>6.0622</td>\n",
       "      <td>3</td>\n",
       "      <td>222</td>\n",
       "      <td>18.7</td>\n",
       "      <td>394.63</td>\n",
       "      <td>2.94</td>\n",
       "      <td>33.4</td>\n",
       "    </tr>\n",
       "    <tr>\n",
       "      <th>5</th>\n",
       "      <td>0.02985</td>\n",
       "      <td>0.0</td>\n",
       "      <td>2.18</td>\n",
       "      <td>0.0</td>\n",
       "      <td>0.458</td>\n",
       "      <td>6.430</td>\n",
       "      <td>58.7</td>\n",
       "      <td>6.0622</td>\n",
       "      <td>3</td>\n",
       "      <td>222</td>\n",
       "      <td>18.7</td>\n",
       "      <td>394.12</td>\n",
       "      <td>5.21</td>\n",
       "      <td>28.7</td>\n",
       "    </tr>\n",
       "  </tbody>\n",
       "</table>\n",
       "</div>"
      ],
      "text/plain": [
       "      CRIM    ZN  INDUS  CHAS    NOX     RM   AGE     DIS  RAD  TAX  PTRATIO  \\\n",
       "0  0.00632  18.0   2.31   0.0  0.538  6.575  65.2  4.0900    1  296     15.3   \n",
       "1  0.02731   0.0   7.07   0.0  0.469  6.421  78.9  4.9671    2  242     17.8   \n",
       "2  0.02729   0.0   7.07   0.0  0.469  7.185  61.1  4.9671    2  242     17.8   \n",
       "3  0.03237   0.0   2.18   0.0  0.458  6.998  45.8  6.0622    3  222     18.7   \n",
       "5  0.02985   0.0   2.18   0.0  0.458  6.430  58.7  6.0622    3  222     18.7   \n",
       "\n",
       "        B  LSTAT  MEDV  \n",
       "0  396.90   4.98  24.0  \n",
       "1  396.90   9.14  21.6  \n",
       "2  392.83   4.03  34.7  \n",
       "3  394.63   2.94  33.4  \n",
       "5  394.12   5.21  28.7  "
      ]
     },
     "execution_count": 25,
     "metadata": {},
     "output_type": "execute_result"
    }
   ],
   "source": [
    "df = pd.read_csv(\"Boston.csv\")\n",
    "df.dropna(inplace=True)\n",
    "df.head()"
   ]
  },
  {
   "cell_type": "code",
   "execution_count": 26,
   "id": "6deeb489-a047-40f2-a0da-59c5b022f0cc",
   "metadata": {},
   "outputs": [
    {
     "name": "stdout",
     "output_type": "stream",
     "text": [
      "Index(['ZN', 'CHAS'], dtype='object')\n"
     ]
    }
   ],
   "source": [
    "# finding columns with 0 in them\n",
    "zero_columns = df.columns[(df == 0).any()]\n",
    "print(zero_columns)"
   ]
  },
  {
   "cell_type": "code",
   "execution_count": 27,
   "id": "5b206948-b8cc-4de5-bd42-4ee4f15e7d16",
   "metadata": {
    "tags": []
   },
   "outputs": [],
   "source": [
    "# doing log of columns with no 0 in them\n",
    "df['lnCRIM'] = np.log(df['CRIM'])\n",
    "df['lnINDUS'] = np.log(df['INDUS'])\n",
    "df['lnNOX'] = np.log(df['NOX'])\n",
    "df['lnRM'] = np.log(df['RM'])\n",
    "df['lnAGE'] = np.log(df['AGE'])\n",
    "df['lnDIS'] = np.log(df['DIS'])\n",
    "df['lnRAD'] = np.log(df['RAD'])\n",
    "df['lnTAX'] = np.log(df['TAX'])\n",
    "df['lnPTRATIO'] = np.log(df['PTRATIO'])\n",
    "df['lnB'] = np.log(df['B'])"
   ]
  },
  {
   "cell_type": "code",
   "execution_count": 28,
   "id": "13e1fe00-8f00-4078-b624-a62443550f24",
   "metadata": {},
   "outputs": [],
   "source": [
    "# doing cross validation with knn model, hyperparameter tuning\n",
    "scoreCV=[cross_val_score(knn(n_neighbors=i),X=df[['lnCRIM','ZN','lnINDUS','CHAS','lnNOX','lnRM','lnAGE','lnDIS','lnRAD','lnTAX','lnPTRATIO','lnB','LSTAT']],\n",
    "                y=df['MEDV'],\n",
    "                         cv=5).mean() for i in list(range(5, 300))]"
   ]
  },
  {
   "cell_type": "code",
   "execution_count": 29,
   "id": "b1e3604c-4528-446d-ad55-9e4ff289bba2",
   "metadata": {
    "scrolled": true
   },
   "outputs": [
    {
     "data": {
      "text/plain": [
       "scores       0.249108\n",
       "neighbors    9.000000\n",
       "Name: 4, dtype: float64"
      ]
     },
     "execution_count": 29,
     "metadata": {},
     "output_type": "execute_result"
    }
   ],
   "source": [
    "df_CV=pd.DataFrame(scoreCV, columns=['scores'])\n",
    "df_CV['neighbors']=list(range(5, 300))\n",
    "\n",
    "df_CV\n",
    "#What is the optimal number of neighbors\n",
    "max_row = df_CV.loc[df_CV['scores'].idxmax()]\n",
    "max_row"
   ]
  },
  {
   "cell_type": "code",
   "execution_count": 30,
   "id": "5132b888-b173-4f43-aa09-03db057318ba",
   "metadata": {},
   "outputs": [
    {
     "data": {
      "image/png": "[encoded data removed]",
      "text/plain": [
       "<Figure size 640x480 with 1 Axes>"
      ]
     },
     "metadata": {},
     "output_type": "display_data"
    },
    {
     "data": {
      "text/plain": [
       "<ggplot: (8793636692297)>"
      ]
     },
     "execution_count": 30,
     "metadata": {},
     "output_type": "execute_result"
    }
   ],
   "source": [
    "(ggplot(df_CV, aes(x='neighbors', y='scores'))+\n",
    " geom_line(color='darkorange')+\n",
    "theme_bw())"
   ]
  },
  {
   "cell_type": "code",
   "execution_count": 31,
   "id": "d56b3217-c482-47af-935a-60fbbc4b8d9c",
   "metadata": {},
   "outputs": [],
   "source": [
    "# trying random forest \n",
    "scoresrf=[cross_val_score(rf(n_estimators=100,max_depth=i),\n",
    "                          df[['lnCRIM','ZN','lnINDUS','CHAS','lnNOX','lnRM','lnAGE','lnDIS','lnRAD','lnTAX','lnPTRATIO','lnB','LSTAT']],df['MEDV'],\n",
    "                          cv=5).mean() for i in list(range(1,15))\n",
    "    ]"
   ]
  },
  {
   "cell_type": "code",
   "execution_count": 32,
   "id": "bc293bf6-fe1c-45d6-b83f-221c5c5e3bae",
   "metadata": {},
   "outputs": [
    {
     "data": {
      "text/html": [
       "<div>\n",
       "<style scoped>\n",
       "    .dataframe tbody tr th:only-of-type {\n",
       "        vertical-align: middle;\n",
       "    }\n",
       "\n",
       "    .dataframe tbody tr th {\n",
       "        vertical-align: top;\n",
       "    }\n",
       "\n",
       "    .dataframe thead th {\n",
       "        text-align: right;\n",
       "    }\n",
       "</style>\n",
       "<table border=\"1\" class=\"dataframe\">\n",
       "  <thead>\n",
       "    <tr style=\"text-align: right;\">\n",
       "      <th></th>\n",
       "      <th>scores</th>\n",
       "      <th>depth</th>\n",
       "    </tr>\n",
       "  </thead>\n",
       "  <tbody>\n",
       "    <tr>\n",
       "      <th>0</th>\n",
       "      <td>-0.024702</td>\n",
       "      <td>1</td>\n",
       "    </tr>\n",
       "    <tr>\n",
       "      <th>1</th>\n",
       "      <td>0.476538</td>\n",
       "      <td>2</td>\n",
       "    </tr>\n",
       "    <tr>\n",
       "      <th>2</th>\n",
       "      <td>0.538137</td>\n",
       "      <td>3</td>\n",
       "    </tr>\n",
       "    <tr>\n",
       "      <th>3</th>\n",
       "      <td>0.544248</td>\n",
       "      <td>4</td>\n",
       "    </tr>\n",
       "    <tr>\n",
       "      <th>4</th>\n",
       "      <td>0.587480</td>\n",
       "      <td>5</td>\n",
       "    </tr>\n",
       "    <tr>\n",
       "      <th>5</th>\n",
       "      <td>0.569360</td>\n",
       "      <td>6</td>\n",
       "    </tr>\n",
       "    <tr>\n",
       "      <th>6</th>\n",
       "      <td>0.566625</td>\n",
       "      <td>7</td>\n",
       "    </tr>\n",
       "    <tr>\n",
       "      <th>7</th>\n",
       "      <td>0.579966</td>\n",
       "      <td>8</td>\n",
       "    </tr>\n",
       "    <tr>\n",
       "      <th>8</th>\n",
       "      <td>0.587139</td>\n",
       "      <td>9</td>\n",
       "    </tr>\n",
       "    <tr>\n",
       "      <th>9</th>\n",
       "      <td>0.596603</td>\n",
       "      <td>10</td>\n",
       "    </tr>\n",
       "    <tr>\n",
       "      <th>10</th>\n",
       "      <td>0.593424</td>\n",
       "      <td>11</td>\n",
       "    </tr>\n",
       "    <tr>\n",
       "      <th>11</th>\n",
       "      <td>0.587114</td>\n",
       "      <td>12</td>\n",
       "    </tr>\n",
       "    <tr>\n",
       "      <th>12</th>\n",
       "      <td>0.590487</td>\n",
       "      <td>13</td>\n",
       "    </tr>\n",
       "    <tr>\n",
       "      <th>13</th>\n",
       "      <td>0.568661</td>\n",
       "      <td>14</td>\n",
       "    </tr>\n",
       "  </tbody>\n",
       "</table>\n",
       "</div>"
      ],
      "text/plain": [
       "      scores  depth\n",
       "0  -0.024702      1\n",
       "1   0.476538      2\n",
       "2   0.538137      3\n",
       "3   0.544248      4\n",
       "4   0.587480      5\n",
       "5   0.569360      6\n",
       "6   0.566625      7\n",
       "7   0.579966      8\n",
       "8   0.587139      9\n",
       "9   0.596603     10\n",
       "10  0.593424     11\n",
       "11  0.587114     12\n",
       "12  0.590487     13\n",
       "13  0.568661     14"
      ]
     },
     "execution_count": 32,
     "metadata": {},
     "output_type": "execute_result"
    }
   ],
   "source": [
    "rf_df=pd.DataFrame(scoresrf, columns=['scores'])\n",
    "\n",
    "rf_df['depth']=list(range(1,15))\n",
    "rf_df"
   ]
  },
  {
   "cell_type": "code",
   "execution_count": 33,
   "id": "539d5a55-cfbf-42c2-8625-3a5031f2d7dc",
   "metadata": {
    "scrolled": true
   },
   "outputs": [
    {
     "data": {
      "image/png": "[encoded data removed]",
      "text/plain": [
       "<Figure size 640x480 with 1 Axes>"
      ]
     },
     "metadata": {},
     "output_type": "display_data"
    },
    {
     "data": {
      "text/plain": [
       "<ggplot: (8793660551545)>"
      ]
     },
     "execution_count": 33,
     "metadata": {},
     "output_type": "execute_result"
    }
   ],
   "source": [
    "(ggplot(rf_df, aes(x='depth', y='scores'))+\n",
    "geom_line(color='darkorange')+\n",
    "theme_bw())"
   ]
  },
  {
   "cell_type": "code",
   "execution_count": 34,
   "id": "1796ea17-6ce8-41e9-b889-03008ca0de2f",
   "metadata": {
    "tags": []
   },
   "outputs": [
    {
     "data": {
      "text/plain": [
       "9    10\n",
       "Name: depth, dtype: int64"
      ]
     },
     "execution_count": 34,
     "metadata": {},
     "output_type": "execute_result"
    }
   ],
   "source": [
    "#Let's find the maximum depth\n",
    "\n",
    "rf_df.loc[rf_df['scores']==rf_df.scores.max(), 'depth']"
   ]
  },
  {
   "cell_type": "code",
   "execution_count": 35,
   "id": "64d57307-b344-4c1f-a3e5-684d9a7a53b9",
   "metadata": {},
   "outputs": [
    {
     "data": {
      "text/plain": [
       "0.5724140598352634"
      ]
     },
     "execution_count": 35,
     "metadata": {},
     "output_type": "execute_result"
    }
   ],
   "source": [
    "scoresrf=cross_val_score(rf(n_estimators=100,max_depth=3),\n",
    "                          df[['lnCRIM','ZN','lnINDUS','CHAS','lnNOX','lnRM','lnAGE','lnDIS','lnRAD','lnTAX','lnPTRATIO','lnB','LSTAT']],df['MEDV'],\n",
    "                          cv=5).mean()\n",
    "scoresrf"
   ]
  },
  {
   "cell_type": "markdown",
   "id": "ec5724b1-2223-4cba-9cc1-48334cccbea2",
   "metadata": {},
   "source": [
    "### Part 2\n",
    "Create the best classification model you can using what we learned in class. Use any of the methods we explored and show how you assessed how good your model is carefully. Using AUC is a good idea. The label variable is \"status.\" Hint: .data files can be read with read_csv like:"
   ]
  },
  {
   "cell_type": "code",
   "execution_count": 40,
   "id": "5ba64eb9-d99e-48c5-aefd-9433a63ddfcb",
   "metadata": {},
   "outputs": [
    {
     "data": {
      "text/html": [
       "<div>\n",
       "<style scoped>\n",
       "    .dataframe tbody tr th:only-of-type {\n",
       "        vertical-align: middle;\n",
       "    }\n",
       "\n",
       "    .dataframe tbody tr th {\n",
       "        vertical-align: top;\n",
       "    }\n",
       "\n",
       "    .dataframe thead th {\n",
       "        text-align: right;\n",
       "    }\n",
       "</style>\n",
       "<table border=\"1\" class=\"dataframe\">\n",
       "  <thead>\n",
       "    <tr style=\"text-align: right;\">\n",
       "      <th></th>\n",
       "      <th>name</th>\n",
       "      <th>MDVP:Fo(Hz)</th>\n",
       "      <th>MDVP:Fhi(Hz)</th>\n",
       "      <th>MDVP:Flo(Hz)</th>\n",
       "      <th>MDVP:Jitter(%)</th>\n",
       "      <th>MDVP:Jitter(Abs)</th>\n",
       "      <th>MDVP:RAP</th>\n",
       "      <th>MDVP:PPQ</th>\n",
       "      <th>Jitter:DDP</th>\n",
       "      <th>MDVP:Shimmer</th>\n",
       "      <th>...</th>\n",
       "      <th>Shimmer:DDA</th>\n",
       "      <th>NHR</th>\n",
       "      <th>HNR</th>\n",
       "      <th>status</th>\n",
       "      <th>RPDE</th>\n",
       "      <th>DFA</th>\n",
       "      <th>spread1</th>\n",
       "      <th>spread2</th>\n",
       "      <th>D2</th>\n",
       "      <th>PPE</th>\n",
       "    </tr>\n",
       "  </thead>\n",
       "  <tbody>\n",
       "    <tr>\n",
       "      <th>0</th>\n",
       "      <td>phon_R01_S01_1</td>\n",
       "      <td>119.992</td>\n",
       "      <td>157.302</td>\n",
       "      <td>74.997</td>\n",
       "      <td>0.00784</td>\n",
       "      <td>0.00007</td>\n",
       "      <td>0.00370</td>\n",
       "      <td>0.00554</td>\n",
       "      <td>0.01109</td>\n",
       "      <td>0.04374</td>\n",
       "      <td>...</td>\n",
       "      <td>0.06545</td>\n",
       "      <td>0.02211</td>\n",
       "      <td>21.033</td>\n",
       "      <td>1</td>\n",
       "      <td>0.414783</td>\n",
       "      <td>0.815285</td>\n",
       "      <td>-4.813031</td>\n",
       "      <td>0.266482</td>\n",
       "      <td>2.301442</td>\n",
       "      <td>0.284654</td>\n",
       "    </tr>\n",
       "    <tr>\n",
       "      <th>1</th>\n",
       "      <td>phon_R01_S01_2</td>\n",
       "      <td>122.400</td>\n",
       "      <td>148.650</td>\n",
       "      <td>113.819</td>\n",
       "      <td>0.00968</td>\n",
       "      <td>0.00008</td>\n",
       "      <td>0.00465</td>\n",
       "      <td>0.00696</td>\n",
       "      <td>0.01394</td>\n",
       "      <td>0.06134</td>\n",
       "      <td>...</td>\n",
       "      <td>0.09403</td>\n",
       "      <td>0.01929</td>\n",
       "      <td>19.085</td>\n",
       "      <td>1</td>\n",
       "      <td>0.458359</td>\n",
       "      <td>0.819521</td>\n",
       "      <td>-4.075192</td>\n",
       "      <td>0.335590</td>\n",
       "      <td>2.486855</td>\n",
       "      <td>0.368674</td>\n",
       "    </tr>\n",
       "    <tr>\n",
       "      <th>2</th>\n",
       "      <td>phon_R01_S01_3</td>\n",
       "      <td>116.682</td>\n",
       "      <td>131.111</td>\n",
       "      <td>111.555</td>\n",
       "      <td>0.01050</td>\n",
       "      <td>0.00009</td>\n",
       "      <td>0.00544</td>\n",
       "      <td>0.00781</td>\n",
       "      <td>0.01633</td>\n",
       "      <td>0.05233</td>\n",
       "      <td>...</td>\n",
       "      <td>0.08270</td>\n",
       "      <td>0.01309</td>\n",
       "      <td>20.651</td>\n",
       "      <td>1</td>\n",
       "      <td>0.429895</td>\n",
       "      <td>0.825288</td>\n",
       "      <td>-4.443179</td>\n",
       "      <td>0.311173</td>\n",
       "      <td>2.342259</td>\n",
       "      <td>0.332634</td>\n",
       "    </tr>\n",
       "    <tr>\n",
       "      <th>3</th>\n",
       "      <td>phon_R01_S01_4</td>\n",
       "      <td>116.676</td>\n",
       "      <td>137.871</td>\n",
       "      <td>111.366</td>\n",
       "      <td>0.00997</td>\n",
       "      <td>0.00009</td>\n",
       "      <td>0.00502</td>\n",
       "      <td>0.00698</td>\n",
       "      <td>0.01505</td>\n",
       "      <td>0.05492</td>\n",
       "      <td>...</td>\n",
       "      <td>0.08771</td>\n",
       "      <td>0.01353</td>\n",
       "      <td>20.644</td>\n",
       "      <td>1</td>\n",
       "      <td>0.434969</td>\n",
       "      <td>0.819235</td>\n",
       "      <td>-4.117501</td>\n",
       "      <td>0.334147</td>\n",
       "      <td>2.405554</td>\n",
       "      <td>0.368975</td>\n",
       "    </tr>\n",
       "    <tr>\n",
       "      <th>4</th>\n",
       "      <td>phon_R01_S01_5</td>\n",
       "      <td>116.014</td>\n",
       "      <td>141.781</td>\n",
       "      <td>110.655</td>\n",
       "      <td>0.01284</td>\n",
       "      <td>0.00011</td>\n",
       "      <td>0.00655</td>\n",
       "      <td>0.00908</td>\n",
       "      <td>0.01966</td>\n",
       "      <td>0.06425</td>\n",
       "      <td>...</td>\n",
       "      <td>0.10470</td>\n",
       "      <td>0.01767</td>\n",
       "      <td>19.649</td>\n",
       "      <td>1</td>\n",
       "      <td>0.417356</td>\n",
       "      <td>0.823484</td>\n",
       "      <td>-3.747787</td>\n",
       "      <td>0.234513</td>\n",
       "      <td>2.332180</td>\n",
       "      <td>0.410335</td>\n",
       "    </tr>\n",
       "  </tbody>\n",
       "</table>\n",
       "<p>5 rows × 24 columns</p>\n",
       "</div>"
      ],
      "text/plain": [
       "             name  MDVP:Fo(Hz)  MDVP:Fhi(Hz)  MDVP:Flo(Hz)  MDVP:Jitter(%)  \\\n",
       "0  phon_R01_S01_1      119.992       157.302        74.997         0.00784   \n",
       "1  phon_R01_S01_2      122.400       148.650       113.819         0.00968   \n",
       "2  phon_R01_S01_3      116.682       131.111       111.555         0.01050   \n",
       "3  phon_R01_S01_4      116.676       137.871       111.366         0.00997   \n",
       "4  phon_R01_S01_5      116.014       141.781       110.655         0.01284   \n",
       "\n",
       "   MDVP:Jitter(Abs)  MDVP:RAP  MDVP:PPQ  Jitter:DDP  MDVP:Shimmer  ...  \\\n",
       "0           0.00007   0.00370   0.00554     0.01109       0.04374  ...   \n",
       "1           0.00008   0.00465   0.00696     0.01394       0.06134  ...   \n",
       "2           0.00009   0.00544   0.00781     0.01633       0.05233  ...   \n",
       "3           0.00009   0.00502   0.00698     0.01505       0.05492  ...   \n",
       "4           0.00011   0.00655   0.00908     0.01966       0.06425  ...   \n",
       "\n",
       "   Shimmer:DDA      NHR     HNR  status      RPDE       DFA   spread1  \\\n",
       "0      0.06545  0.02211  21.033       1  0.414783  0.815285 -4.813031   \n",
       "1      0.09403  0.01929  19.085       1  0.458359  0.819521 -4.075192   \n",
       "2      0.08270  0.01309  20.651       1  0.429895  0.825288 -4.443179   \n",
       "3      0.08771  0.01353  20.644       1  0.434969  0.819235 -4.117501   \n",
       "4      0.10470  0.01767  19.649       1  0.417356  0.823484 -3.747787   \n",
       "\n",
       "    spread2        D2       PPE  \n",
       "0  0.266482  2.301442  0.284654  \n",
       "1  0.335590  2.486855  0.368674  \n",
       "2  0.311173  2.342259  0.332634  \n",
       "3  0.334147  2.405554  0.368975  \n",
       "4  0.234513  2.332180  0.410335  \n",
       "\n",
       "[5 rows x 24 columns]"
      ]
     },
     "execution_count": 40,
     "metadata": {},
     "output_type": "execute_result"
    }
   ],
   "source": [
    "url = \"parkinsons.data\"\n",
    "df = pd.read_csv(url)\n",
    "df.dropna(inplace=True)\n",
    "df.head()"
   ]
  },
  {
   "cell_type": "markdown",
   "id": "f51dbf5b-95ba-4868-8a37-ec494a044011",
   "metadata": {},
   "source": [
    "### balancing data"
   ]
  },
  {
   "cell_type": "code",
   "execution_count": 41,
   "id": "9a67148d-7901-4d30-a848-caf4deb43158",
   "metadata": {},
   "outputs": [],
   "source": [
    "df_majority = df[df['status']==0]\n",
    "df_minority = df[df['status']==1]"
   ]
  },
  {
   "cell_type": "code",
   "execution_count": 42,
   "id": "2a2339d0-d03a-4a39-8db9-c0a26dc19531",
   "metadata": {},
   "outputs": [
    {
     "data": {
      "text/plain": [
       "(48, 24)"
      ]
     },
     "execution_count": 42,
     "metadata": {},
     "output_type": "execute_result"
    }
   ],
   "source": [
    "df_majority.shape"
   ]
  },
  {
   "cell_type": "code",
   "execution_count": 43,
   "id": "a9bbe21e-6cea-435e-9bd8-807a0abefdbb",
   "metadata": {},
   "outputs": [
    {
     "data": {
      "text/plain": [
       "(147, 24)"
      ]
     },
     "execution_count": 43,
     "metadata": {},
     "output_type": "execute_result"
    }
   ],
   "source": [
    "df_minority.shape"
   ]
  },
  {
   "cell_type": "markdown",
   "id": "df16a072-b9cb-420e-b073-bea9326e549d",
   "metadata": {},
   "source": [
    "Heavily baised toward one side"
   ]
  },
  {
   "cell_type": "code",
   "execution_count": 44,
   "id": "8fd5c346-8b13-4004-8f3b-43e42515220a",
   "metadata": {},
   "outputs": [
    {
     "data": {
      "text/plain": [
       "(147, 24)"
      ]
     },
     "execution_count": 44,
     "metadata": {},
     "output_type": "execute_result"
    }
   ],
   "source": [
    "df_majority_up = resample(df_majority, \n",
    "                                 replace=True,     # sample with replacement\n",
    "                                 n_samples=147,   \n",
    "                                 random_state=42)\n",
    "df_majority_up.shape"
   ]
  },
  {
   "cell_type": "code",
   "execution_count": 45,
   "id": "4ebed9ca-2491-40a8-8b98-f0c307a02bbd",
   "metadata": {},
   "outputs": [
    {
     "data": {
      "text/plain": [
       "(294, 24)"
      ]
     },
     "execution_count": 45,
     "metadata": {},
     "output_type": "execute_result"
    }
   ],
   "source": [
    "df_up=pd.concat([df_majority_up, df_minority])\n",
    "df_up.shape"
   ]
  },
  {
   "cell_type": "code",
   "execution_count": 46,
   "id": "6bc6aff8-4ad2-4d98-bee2-fd7a1775ab03",
   "metadata": {},
   "outputs": [
    {
     "data": {
      "text/html": [
       "<div>\n",
       "<style scoped>\n",
       "    .dataframe tbody tr th:only-of-type {\n",
       "        vertical-align: middle;\n",
       "    }\n",
       "\n",
       "    .dataframe tbody tr th {\n",
       "        vertical-align: top;\n",
       "    }\n",
       "\n",
       "    .dataframe thead th {\n",
       "        text-align: right;\n",
       "    }\n",
       "</style>\n",
       "<table border=\"1\" class=\"dataframe\">\n",
       "  <thead>\n",
       "    <tr style=\"text-align: right;\">\n",
       "      <th></th>\n",
       "      <th>MDVP:Fo(Hz)</th>\n",
       "      <th>MDVP:Fhi(Hz)</th>\n",
       "      <th>MDVP:Flo(Hz)</th>\n",
       "      <th>MDVP:Jitter(%)</th>\n",
       "      <th>MDVP:Jitter(Abs)</th>\n",
       "      <th>MDVP:RAP</th>\n",
       "      <th>MDVP:PPQ</th>\n",
       "      <th>Jitter:DDP</th>\n",
       "      <th>MDVP:Shimmer</th>\n",
       "      <th>MDVP:Shimmer(dB)</th>\n",
       "      <th>...</th>\n",
       "      <th>NHR</th>\n",
       "      <th>HNR</th>\n",
       "      <th>RPDE</th>\n",
       "      <th>DFA</th>\n",
       "      <th>spread1</th>\n",
       "      <th>spread2</th>\n",
       "      <th>D2</th>\n",
       "      <th>PPE</th>\n",
       "      <th>status</th>\n",
       "      <th>predRF2</th>\n",
       "    </tr>\n",
       "  </thead>\n",
       "  <tbody>\n",
       "    <tr>\n",
       "      <th>33</th>\n",
       "      <td>202.266</td>\n",
       "      <td>211.604</td>\n",
       "      <td>197.079</td>\n",
       "      <td>0.00180</td>\n",
       "      <td>0.000009</td>\n",
       "      <td>0.00093</td>\n",
       "      <td>0.00107</td>\n",
       "      <td>0.00278</td>\n",
       "      <td>0.00954</td>\n",
       "      <td>0.085</td>\n",
       "      <td>...</td>\n",
       "      <td>0.00072</td>\n",
       "      <td>32.684</td>\n",
       "      <td>0.368535</td>\n",
       "      <td>0.742133</td>\n",
       "      <td>-7.695734</td>\n",
       "      <td>0.178540</td>\n",
       "      <td>1.544609</td>\n",
       "      <td>0.056141</td>\n",
       "      <td>0</td>\n",
       "      <td>0</td>\n",
       "    </tr>\n",
       "    <tr>\n",
       "      <th>106</th>\n",
       "      <td>155.078</td>\n",
       "      <td>163.736</td>\n",
       "      <td>144.148</td>\n",
       "      <td>0.00168</td>\n",
       "      <td>0.000010</td>\n",
       "      <td>0.00068</td>\n",
       "      <td>0.00092</td>\n",
       "      <td>0.00204</td>\n",
       "      <td>0.01064</td>\n",
       "      <td>0.097</td>\n",
       "      <td>...</td>\n",
       "      <td>0.00233</td>\n",
       "      <td>29.746</td>\n",
       "      <td>0.334171</td>\n",
       "      <td>0.677930</td>\n",
       "      <td>-6.981201</td>\n",
       "      <td>0.184550</td>\n",
       "      <td>2.129924</td>\n",
       "      <td>0.106802</td>\n",
       "      <td>1</td>\n",
       "      <td>1</td>\n",
       "    </tr>\n",
       "    <tr>\n",
       "      <th>127</th>\n",
       "      <td>166.888</td>\n",
       "      <td>198.966</td>\n",
       "      <td>79.512</td>\n",
       "      <td>0.00638</td>\n",
       "      <td>0.000040</td>\n",
       "      <td>0.00368</td>\n",
       "      <td>0.00351</td>\n",
       "      <td>0.01104</td>\n",
       "      <td>0.02857</td>\n",
       "      <td>0.257</td>\n",
       "      <td>...</td>\n",
       "      <td>0.01796</td>\n",
       "      <td>18.330</td>\n",
       "      <td>0.585169</td>\n",
       "      <td>0.736964</td>\n",
       "      <td>-5.825257</td>\n",
       "      <td>0.115697</td>\n",
       "      <td>1.996146</td>\n",
       "      <td>0.196535</td>\n",
       "      <td>1</td>\n",
       "      <td>1</td>\n",
       "    </tr>\n",
       "    <tr>\n",
       "      <th>37</th>\n",
       "      <td>176.170</td>\n",
       "      <td>185.604</td>\n",
       "      <td>163.564</td>\n",
       "      <td>0.00369</td>\n",
       "      <td>0.000020</td>\n",
       "      <td>0.00205</td>\n",
       "      <td>0.00218</td>\n",
       "      <td>0.00616</td>\n",
       "      <td>0.01851</td>\n",
       "      <td>0.168</td>\n",
       "      <td>...</td>\n",
       "      <td>0.00340</td>\n",
       "      <td>24.951</td>\n",
       "      <td>0.341435</td>\n",
       "      <td>0.783626</td>\n",
       "      <td>-6.006414</td>\n",
       "      <td>0.196371</td>\n",
       "      <td>2.536527</td>\n",
       "      <td>0.173218</td>\n",
       "      <td>1</td>\n",
       "      <td>1</td>\n",
       "    </tr>\n",
       "    <tr>\n",
       "      <th>41</th>\n",
       "      <td>184.055</td>\n",
       "      <td>196.537</td>\n",
       "      <td>166.977</td>\n",
       "      <td>0.00258</td>\n",
       "      <td>0.000010</td>\n",
       "      <td>0.00134</td>\n",
       "      <td>0.00147</td>\n",
       "      <td>0.00403</td>\n",
       "      <td>0.01463</td>\n",
       "      <td>0.132</td>\n",
       "      <td>...</td>\n",
       "      <td>0.00257</td>\n",
       "      <td>26.453</td>\n",
       "      <td>0.306443</td>\n",
       "      <td>0.759203</td>\n",
       "      <td>-7.044105</td>\n",
       "      <td>0.063412</td>\n",
       "      <td>2.361532</td>\n",
       "      <td>0.115730</td>\n",
       "      <td>1</td>\n",
       "      <td>0</td>\n",
       "    </tr>\n",
       "  </tbody>\n",
       "</table>\n",
       "<p>5 rows × 24 columns</p>\n",
       "</div>"
      ],
      "text/plain": [
       "     MDVP:Fo(Hz)  MDVP:Fhi(Hz)  MDVP:Flo(Hz)  MDVP:Jitter(%)  \\\n",
       "33       202.266       211.604       197.079         0.00180   \n",
       "106      155.078       163.736       144.148         0.00168   \n",
       "127      166.888       198.966        79.512         0.00638   \n",
       "37       176.170       185.604       163.564         0.00369   \n",
       "41       184.055       196.537       166.977         0.00258   \n",
       "\n",
       "     MDVP:Jitter(Abs)  MDVP:RAP  MDVP:PPQ  Jitter:DDP  MDVP:Shimmer  \\\n",
       "33           0.000009   0.00093   0.00107     0.00278       0.00954   \n",
       "106          0.000010   0.00068   0.00092     0.00204       0.01064   \n",
       "127          0.000040   0.00368   0.00351     0.01104       0.02857   \n",
       "37           0.000020   0.00205   0.00218     0.00616       0.01851   \n",
       "41           0.000010   0.00134   0.00147     0.00403       0.01463   \n",
       "\n",
       "     MDVP:Shimmer(dB)  ...      NHR     HNR      RPDE       DFA   spread1  \\\n",
       "33              0.085  ...  0.00072  32.684  0.368535  0.742133 -7.695734   \n",
       "106             0.097  ...  0.00233  29.746  0.334171  0.677930 -6.981201   \n",
       "127             0.257  ...  0.01796  18.330  0.585169  0.736964 -5.825257   \n",
       "37              0.168  ...  0.00340  24.951  0.341435  0.783626 -6.006414   \n",
       "41              0.132  ...  0.00257  26.453  0.306443  0.759203 -7.044105   \n",
       "\n",
       "      spread2        D2       PPE  status  predRF2  \n",
       "33   0.178540  1.544609  0.056141       0        0  \n",
       "106  0.184550  2.129924  0.106802       1        1  \n",
       "127  0.115697  1.996146  0.196535       1        1  \n",
       "37   0.196371  2.536527  0.173218       1        1  \n",
       "41   0.063412  2.361532  0.115730       1        0  \n",
       "\n",
       "[5 rows x 24 columns]"
      ]
     },
     "execution_count": 46,
     "metadata": {},
     "output_type": "execute_result"
    }
   ],
   "source": [
    "import numpy as np\n",
    "import pandas as pd\n",
    "from sklearn.model_selection import train_test_split\n",
    "from sklearn.ensemble import RandomForestClassifier\n",
    "\n",
    "feature_list = ['MDVP:Fo(Hz)', 'MDVP:Fhi(Hz)', 'MDVP:Flo(Hz)', 'MDVP:Jitter(%)', 'MDVP:Jitter(Abs)', 'MDVP:RAP', 'MDVP:PPQ', 'Jitter:DDP', 'MDVP:Shimmer', 'MDVP:Shimmer(dB)', 'Shimmer:APQ3', 'Shimmer:APQ5', 'MDVP:APQ', 'Shimmer:DDA', 'NHR', 'HNR', 'RPDE', 'DFA', 'spread1', 'spread2', 'D2', 'PPE']\n",
    "new_X = df_up[feature_list]\n",
    "new_y = df_up['status'] \n",
    "X_train, X_test, y_train, y_test = train_test_split(new_X, new_y, test_size=0.20)\n",
    "\n",
    "# Fit RandomForestClassifier and get predicted probabilities\n",
    "predRF2_proba = RandomForestClassifier().fit(X_train, y_train).predict_proba(X_test)\n",
    "\n",
    "# Round predicted probabilities to 0 or 1\n",
    "predRF2 = np.where(predRF2_proba >= 0.5, 1, 0)\n",
    "\n",
    "# Create a new DataFrame to store the results\n",
    "df = X_test.copy()\n",
    "df['status'] = y_test\n",
    "df['predRF2'] = predRF2[:, 1]  # Update to select the second column of predRF2 (probabilities of positive class)\n",
    "\n",
    "df.head()\n"
   ]
  },
  {
   "cell_type": "code",
   "execution_count": 47,
   "id": "2c97e0ae-08af-4da5-9bcf-b10a004e9d2d",
   "metadata": {
    "scrolled": true
   },
   "outputs": [
    {
     "name": "stdout",
     "output_type": "stream",
     "text": [
      "              precision    recall  f1-score   support\n",
      "\n",
      "           0       0.91      1.00      0.95        29\n",
      "           1       1.00      0.90      0.95        30\n",
      "\n",
      "    accuracy                           0.95        59\n",
      "   macro avg       0.95      0.95      0.95        59\n",
      "weighted avg       0.95      0.95      0.95        59\n",
      "\n"
     ]
    }
   ],
   "source": [
    "print(classification_report(y_pred=df['predRF2'],\n",
    "                            y_true=df['status']))"
   ]
  },
  {
   "cell_type": "code",
   "execution_count": 48,
   "id": "a2fd317f-a7d3-438b-8fcf-3dcbe9cc895f",
   "metadata": {
    "scrolled": true
   },
   "outputs": [
    {
     "name": "stdout",
     "output_type": "stream",
     "text": [
      "predRF2: 0.95\n"
     ]
    }
   ],
   "source": [
    "from sklearn.metrics import roc_auc_score\n",
    "\n",
    "roc_auc_score1 = roc_auc_score(y_true=df[['status']], y_score=df[['predRF2']])\n",
    "\n",
    "print('predRF2: ' + str(roc_auc_score1))"
   ]
  },
  {
   "cell_type": "code",
   "execution_count": 49,
   "id": "9cec3635-e887-404e-b34c-4f5f27e6fb59",
   "metadata": {},
   "outputs": [
    {
     "data": {
      "text/html": [
       "<div>\n",
       "<style scoped>\n",
       "    .dataframe tbody tr th:only-of-type {\n",
       "        vertical-align: middle;\n",
       "    }\n",
       "\n",
       "    .dataframe tbody tr th {\n",
       "        vertical-align: top;\n",
       "    }\n",
       "\n",
       "    .dataframe thead th {\n",
       "        text-align: right;\n",
       "    }\n",
       "</style>\n",
       "<table border=\"1\" class=\"dataframe\">\n",
       "  <thead>\n",
       "    <tr style=\"text-align: right;\">\n",
       "      <th></th>\n",
       "      <th>fpr</th>\n",
       "      <th>tpr</th>\n",
       "      <th>threshold</th>\n",
       "    </tr>\n",
       "  </thead>\n",
       "  <tbody>\n",
       "    <tr>\n",
       "      <th>0</th>\n",
       "      <td>0.0</td>\n",
       "      <td>0.0</td>\n",
       "      <td>2</td>\n",
       "    </tr>\n",
       "    <tr>\n",
       "      <th>1</th>\n",
       "      <td>0.0</td>\n",
       "      <td>0.9</td>\n",
       "      <td>1</td>\n",
       "    </tr>\n",
       "    <tr>\n",
       "      <th>2</th>\n",
       "      <td>1.0</td>\n",
       "      <td>1.0</td>\n",
       "      <td>0</td>\n",
       "    </tr>\n",
       "  </tbody>\n",
       "</table>\n",
       "</div>"
      ],
      "text/plain": [
       "   fpr  tpr  threshold\n",
       "0  0.0  0.0          2\n",
       "1  0.0  0.9          1\n",
       "2  1.0  1.0          0"
      ]
     },
     "execution_count": 49,
     "metadata": {},
     "output_type": "execute_result"
    }
   ],
   "source": [
    "from sklearn.metrics import roc_curve, roc_auc_score\n",
    "\n",
    "# Assuming df is the DataFrame containing the predicted probabilities and true labels\n",
    "\n",
    "y_proba = df['predRF2'] # Update to select the 'predRF2' column from df\n",
    "fpr, tpr, threshold = roc_curve(y_test, y_proba) # Update to use y_test as true labels\n",
    "auc = roc_auc_score(y_test, y_proba) # Update to use y_test as true labels\n",
    "\n",
    "results = pd.DataFrame({'fpr': fpr, 'tpr': tpr, 'threshold': threshold})\n",
    "results.head()\n"
   ]
  },
  {
   "cell_type": "code",
   "execution_count": 50,
   "id": "062eb89b-3000-4669-b035-4669ae5f4062",
   "metadata": {
    "scrolled": true
   },
   "outputs": [
    {
     "data": {
      "image/png": "[encoded data removed]",
      "text/plain": [
       "<Figure size 640x480 with 1 Axes>"
      ]
     },
     "metadata": {},
     "output_type": "display_data"
    },
    {
     "data": {
      "text/plain": [
       "<ggplot: (8793688639922)>"
      ]
     },
     "execution_count": 50,
     "metadata": {},
     "output_type": "execute_result"
    }
   ],
   "source": [
    "(ggplot(data=results, mapping=aes(x='fpr', y='tpr'))+\n",
    "geom_line(color='steelblue')+\n",
    "ggtitle(f'AUC={auc}')+\n",
    "geom_abline(linetype='dashed', color='darkorange')+\n",
    " ylab(\"True Positive Rate\")+\n",
    " xlab(\"False Positive Rate\")+\n",
    " theme_bw()\n",
    ")"
   ]
  },
  {
   "cell_type": "code",
   "execution_count": 51,
   "id": "6e2b2b33-59b2-4aee-ba7b-282dbca2a3ca",
   "metadata": {},
   "outputs": [],
   "source": [
    "\n",
    "X = df[feature_list]\n",
    "y = df['status']"
   ]
  },
  {
   "cell_type": "code",
   "execution_count": 52,
   "id": "f8235849-26dd-45d0-ab3c-f7bea4f97798",
   "metadata": {},
   "outputs": [
    {
     "data": {
      "text/plain": [
       "array([1.        , 0.73611111, 0.79166667, 0.90277778, 1.        ])"
      ]
     },
     "execution_count": 52,
     "metadata": {},
     "output_type": "execute_result"
    }
   ],
   "source": [
    "cross_val_score(RandomForestClassifier(), X, y, scoring=\"roc_auc\", cv = 5)"
   ]
  },
  {
   "cell_type": "code",
   "execution_count": 53,
   "id": "7ce07696-fe94-40bf-a4b6-734127aca01a",
   "metadata": {
    "scrolled": true
   },
   "outputs": [
    {
     "data": {
      "text/html": [
       "<div>\n",
       "<style scoped>\n",
       "    .dataframe tbody tr th:only-of-type {\n",
       "        vertical-align: middle;\n",
       "    }\n",
       "\n",
       "    .dataframe tbody tr th {\n",
       "        vertical-align: top;\n",
       "    }\n",
       "\n",
       "    .dataframe thead th {\n",
       "        text-align: right;\n",
       "    }\n",
       "</style>\n",
       "<table border=\"1\" class=\"dataframe\">\n",
       "  <thead>\n",
       "    <tr style=\"text-align: right;\">\n",
       "      <th></th>\n",
       "      <th>AUC</th>\n",
       "      <th>depth</th>\n",
       "    </tr>\n",
       "  </thead>\n",
       "  <tbody>\n",
       "    <tr>\n",
       "      <th>0</th>\n",
       "      <td>0.844444</td>\n",
       "      <td>1</td>\n",
       "    </tr>\n",
       "    <tr>\n",
       "      <th>1</th>\n",
       "      <td>0.872222</td>\n",
       "      <td>2</td>\n",
       "    </tr>\n",
       "    <tr>\n",
       "      <th>2</th>\n",
       "      <td>0.866667</td>\n",
       "      <td>3</td>\n",
       "    </tr>\n",
       "    <tr>\n",
       "      <th>3</th>\n",
       "      <td>0.866667</td>\n",
       "      <td>4</td>\n",
       "    </tr>\n",
       "    <tr>\n",
       "      <th>4</th>\n",
       "      <td>0.911111</td>\n",
       "      <td>5</td>\n",
       "    </tr>\n",
       "    <tr>\n",
       "      <th>5</th>\n",
       "      <td>0.894444</td>\n",
       "      <td>6</td>\n",
       "    </tr>\n",
       "    <tr>\n",
       "      <th>6</th>\n",
       "      <td>0.872222</td>\n",
       "      <td>7</td>\n",
       "    </tr>\n",
       "    <tr>\n",
       "      <th>7</th>\n",
       "      <td>0.877778</td>\n",
       "      <td>8</td>\n",
       "    </tr>\n",
       "    <tr>\n",
       "      <th>8</th>\n",
       "      <td>0.866667</td>\n",
       "      <td>9</td>\n",
       "    </tr>\n",
       "    <tr>\n",
       "      <th>9</th>\n",
       "      <td>0.877778</td>\n",
       "      <td>10</td>\n",
       "    </tr>\n",
       "    <tr>\n",
       "      <th>10</th>\n",
       "      <td>0.869444</td>\n",
       "      <td>11</td>\n",
       "    </tr>\n",
       "    <tr>\n",
       "      <th>11</th>\n",
       "      <td>0.883333</td>\n",
       "      <td>12</td>\n",
       "    </tr>\n",
       "    <tr>\n",
       "      <th>12</th>\n",
       "      <td>0.863889</td>\n",
       "      <td>13</td>\n",
       "    </tr>\n",
       "    <tr>\n",
       "      <th>13</th>\n",
       "      <td>0.866667</td>\n",
       "      <td>14</td>\n",
       "    </tr>\n",
       "    <tr>\n",
       "      <th>14</th>\n",
       "      <td>0.876667</td>\n",
       "      <td>15</td>\n",
       "    </tr>\n",
       "    <tr>\n",
       "      <th>15</th>\n",
       "      <td>0.872222</td>\n",
       "      <td>16</td>\n",
       "    </tr>\n",
       "    <tr>\n",
       "      <th>16</th>\n",
       "      <td>0.888889</td>\n",
       "      <td>17</td>\n",
       "    </tr>\n",
       "    <tr>\n",
       "      <th>17</th>\n",
       "      <td>0.886111</td>\n",
       "      <td>18</td>\n",
       "    </tr>\n",
       "    <tr>\n",
       "      <th>18</th>\n",
       "      <td>0.880556</td>\n",
       "      <td>19</td>\n",
       "    </tr>\n",
       "    <tr>\n",
       "      <th>19</th>\n",
       "      <td>0.888889</td>\n",
       "      <td>20</td>\n",
       "    </tr>\n",
       "    <tr>\n",
       "      <th>20</th>\n",
       "      <td>0.891667</td>\n",
       "      <td>21</td>\n",
       "    </tr>\n",
       "    <tr>\n",
       "      <th>21</th>\n",
       "      <td>0.880556</td>\n",
       "      <td>22</td>\n",
       "    </tr>\n",
       "    <tr>\n",
       "      <th>22</th>\n",
       "      <td>0.900000</td>\n",
       "      <td>23</td>\n",
       "    </tr>\n",
       "    <tr>\n",
       "      <th>23</th>\n",
       "      <td>0.894444</td>\n",
       "      <td>24</td>\n",
       "    </tr>\n",
       "    <tr>\n",
       "      <th>24</th>\n",
       "      <td>0.894444</td>\n",
       "      <td>25</td>\n",
       "    </tr>\n",
       "    <tr>\n",
       "      <th>25</th>\n",
       "      <td>0.897222</td>\n",
       "      <td>26</td>\n",
       "    </tr>\n",
       "    <tr>\n",
       "      <th>26</th>\n",
       "      <td>0.900000</td>\n",
       "      <td>27</td>\n",
       "    </tr>\n",
       "    <tr>\n",
       "      <th>27</th>\n",
       "      <td>0.877778</td>\n",
       "      <td>28</td>\n",
       "    </tr>\n",
       "    <tr>\n",
       "      <th>28</th>\n",
       "      <td>0.877778</td>\n",
       "      <td>29</td>\n",
       "    </tr>\n",
       "  </tbody>\n",
       "</table>\n",
       "</div>"
      ],
      "text/plain": [
       "         AUC  depth\n",
       "0   0.844444      1\n",
       "1   0.872222      2\n",
       "2   0.866667      3\n",
       "3   0.866667      4\n",
       "4   0.911111      5\n",
       "5   0.894444      6\n",
       "6   0.872222      7\n",
       "7   0.877778      8\n",
       "8   0.866667      9\n",
       "9   0.877778     10\n",
       "10  0.869444     11\n",
       "11  0.883333     12\n",
       "12  0.863889     13\n",
       "13  0.866667     14\n",
       "14  0.876667     15\n",
       "15  0.872222     16\n",
       "16  0.888889     17\n",
       "17  0.886111     18\n",
       "18  0.880556     19\n",
       "19  0.888889     20\n",
       "20  0.891667     21\n",
       "21  0.880556     22\n",
       "22  0.900000     23\n",
       "23  0.894444     24\n",
       "24  0.894444     25\n",
       "25  0.897222     26\n",
       "26  0.900000     27\n",
       "27  0.877778     28\n",
       "28  0.877778     29"
      ]
     },
     "execution_count": 53,
     "metadata": {},
     "output_type": "execute_result"
    }
   ],
   "source": [
    "scoresrf=[cross_val_score(RandomForestClassifier(n_estimators=100,\n",
    "                                 max_depth=i),X,y,\n",
    "                          scoring=\"roc_auc\",\n",
    "                          cv=5).mean() for i in list(range(1,30))\n",
    "    ]\n",
    "rfdf=pd.DataFrame(scoresrf, columns=['AUC'])\n",
    "rfdf['depth']=range(1,30)\n",
    "rfdf"
   ]
  },
  {
   "cell_type": "code",
   "execution_count": 54,
   "id": "c0144048-f72b-4f2e-8519-710fc086904a",
   "metadata": {
    "scrolled": true
   },
   "outputs": [
    {
     "data": {
      "image/png": "[encoded data removed]",
      "text/plain": [
       "<Figure size 640x480 with 1 Axes>"
      ]
     },
     "metadata": {},
     "output_type": "display_data"
    },
    {
     "data": {
      "text/plain": [
       "<ggplot: (8793736182863)>"
      ]
     },
     "execution_count": 54,
     "metadata": {},
     "output_type": "execute_result"
    }
   ],
   "source": [
    "(ggplot(data=rfdf, mapping=aes(x='depth', y='AUC'))+\n",
    "       geom_line(color='steelblue')+\n",
    " scale_x_continuous(breaks=np.arange(1,30, 1))+\n",
    " ggtitle('5-fold cross validation AUC scores')+\n",
    "theme_bw())"
   ]
  },
  {
   "cell_type": "code",
   "execution_count": 55,
   "id": "b2f6d8bd-1397-4c0a-9572-0705c9c6ff27",
   "metadata": {
    "scrolled": true
   },
   "outputs": [
    {
     "data": {
      "text/html": [
       "<div>\n",
       "<style scoped>\n",
       "    .dataframe tbody tr th:only-of-type {\n",
       "        vertical-align: middle;\n",
       "    }\n",
       "\n",
       "    .dataframe tbody tr th {\n",
       "        vertical-align: top;\n",
       "    }\n",
       "\n",
       "    .dataframe thead th {\n",
       "        text-align: right;\n",
       "    }\n",
       "</style>\n",
       "<table border=\"1\" class=\"dataframe\">\n",
       "  <thead>\n",
       "    <tr style=\"text-align: right;\">\n",
       "      <th></th>\n",
       "      <th>AUC</th>\n",
       "      <th>depth</th>\n",
       "    </tr>\n",
       "  </thead>\n",
       "  <tbody>\n",
       "    <tr>\n",
       "      <th>4</th>\n",
       "      <td>0.911111</td>\n",
       "      <td>5</td>\n",
       "    </tr>\n",
       "  </tbody>\n",
       "</table>\n",
       "</div>"
      ],
      "text/plain": [
       "        AUC  depth\n",
       "4  0.911111      5"
      ]
     },
     "execution_count": 55,
     "metadata": {},
     "output_type": "execute_result"
    }
   ],
   "source": [
    "#Let's find the optimal  depth\n",
    "rfdf.loc[rfdf['AUC']==rfdf['AUC'].max(),:]"
   ]
  },
  {
   "cell_type": "code",
   "execution_count": 56,
   "id": "1c406bfb-1529-4701-be42-6b1cac895192",
   "metadata": {},
   "outputs": [
    {
     "data": {
      "text/html": [
       "<div>\n",
       "<style scoped>\n",
       "    .dataframe tbody tr th:only-of-type {\n",
       "        vertical-align: middle;\n",
       "    }\n",
       "\n",
       "    .dataframe tbody tr th {\n",
       "        vertical-align: top;\n",
       "    }\n",
       "\n",
       "    .dataframe thead th {\n",
       "        text-align: right;\n",
       "    }\n",
       "</style>\n",
       "<table border=\"1\" class=\"dataframe\">\n",
       "  <thead>\n",
       "    <tr style=\"text-align: right;\">\n",
       "      <th></th>\n",
       "      <th>AUC</th>\n",
       "      <th>depth</th>\n",
       "    </tr>\n",
       "  </thead>\n",
       "  <tbody>\n",
       "    <tr>\n",
       "      <th>2</th>\n",
       "      <td>0.866667</td>\n",
       "      <td>3</td>\n",
       "    </tr>\n",
       "  </tbody>\n",
       "</table>\n",
       "</div>"
      ],
      "text/plain": [
       "        AUC  depth\n",
       "2  0.866667      3"
      ]
     },
     "execution_count": 56,
     "metadata": {},
     "output_type": "execute_result"
    }
   ],
   "source": [
    "# Even though top is around twently it, around 3 is the best (given the fact we desire least amount of depth as well)\n",
    "# since its accuracy jumps around the AUC value after that depth\n",
    "# this turned out to receive a very high AUC score. \n",
    "# However, it is not overfitting as I split the training \n",
    "# and tested and tested it only on the testing data\n",
    "rfdf.loc[rfdf['depth']==3,:]"
   ]
  },
  {
   "cell_type": "markdown",
   "id": "47f5c2ed-1372-4089-b30f-65d8de9f0b35",
   "metadata": {},
   "source": [
    "### Part 3\n",
    "Dataset for final project Initial ideas:  Find 2 possible open datasets (or a way to construct a dataset), and present the following:\n",
    "\n",
    "Context of the dataset: What is interesting about the dataset? What questions could you ask that are interesting? How would you first explore the data? (No need to perform exploration at this moment)\n",
    "\n",
    "Here are some places to find datasets:\n",
    "\n",
    "https://www.kdnuggets.com/datasets/index.html\n",
    "\n",
    "Methodology: How do you think you want to answer your question? \n",
    "\n",
    "Present links for references if available. "
   ]
  },
  {
   "cell_type": "code",
   "execution_count": 57,
   "id": "7724abc8-ac2b-4dc5-b702-6ae08416ce17",
   "metadata": {
    "tags": []
   },
   "outputs": [
    {
     "data": {
      "text/html": [
       "<div>\n",
       "<style scoped>\n",
       "    .dataframe tbody tr th:only-of-type {\n",
       "        vertical-align: middle;\n",
       "    }\n",
       "\n",
       "    .dataframe tbody tr th {\n",
       "        vertical-align: top;\n",
       "    }\n",
       "\n",
       "    .dataframe thead th {\n",
       "        text-align: right;\n",
       "    }\n",
       "</style>\n",
       "<table border=\"1\" class=\"dataframe\">\n",
       "  <thead>\n",
       "    <tr style=\"text-align: right;\">\n",
       "      <th></th>\n",
       "      <th>JWMNP</th>\n",
       "      <th>HINCP</th>\n",
       "      <th>AGEP</th>\n",
       "      <th>HUPAOC</th>\n",
       "      <th>NATIVITY</th>\n",
       "      <th>SEX</th>\n",
       "      <th>SCHL</th>\n",
       "      <th>PUMA</th>\n",
       "      <th>ST</th>\n",
       "      <th>Unnamed: 9</th>\n",
       "    </tr>\n",
       "  </thead>\n",
       "  <tbody>\n",
       "    <tr>\n",
       "      <th>0</th>\n",
       "      <td>0</td>\n",
       "      <td>190000</td>\n",
       "      <td>45</td>\n",
       "      <td>2</td>\n",
       "      <td>1</td>\n",
       "      <td>1</td>\n",
       "      <td>23</td>\n",
       "      <td>3810</td>\n",
       "      <td>36</td>\n",
       "      <td>NaN</td>\n",
       "    </tr>\n",
       "    <tr>\n",
       "      <th>1</th>\n",
       "      <td>0</td>\n",
       "      <td>190000</td>\n",
       "      <td>13</td>\n",
       "      <td>2</td>\n",
       "      <td>1</td>\n",
       "      <td>2</td>\n",
       "      <td>10</td>\n",
       "      <td>3810</td>\n",
       "      <td>36</td>\n",
       "      <td>NaN</td>\n",
       "    </tr>\n",
       "    <tr>\n",
       "      <th>2</th>\n",
       "      <td>0</td>\n",
       "      <td>190000</td>\n",
       "      <td>10</td>\n",
       "      <td>2</td>\n",
       "      <td>1</td>\n",
       "      <td>1</td>\n",
       "      <td>6</td>\n",
       "      <td>3810</td>\n",
       "      <td>36</td>\n",
       "      <td>NaN</td>\n",
       "    </tr>\n",
       "    <tr>\n",
       "      <th>3</th>\n",
       "      <td>0</td>\n",
       "      <td>300000</td>\n",
       "      <td>39</td>\n",
       "      <td>4</td>\n",
       "      <td>2</td>\n",
       "      <td>1</td>\n",
       "      <td>22</td>\n",
       "      <td>3810</td>\n",
       "      <td>36</td>\n",
       "      <td>NaN</td>\n",
       "    </tr>\n",
       "    <tr>\n",
       "      <th>4</th>\n",
       "      <td>0</td>\n",
       "      <td>36900</td>\n",
       "      <td>83</td>\n",
       "      <td>4</td>\n",
       "      <td>1</td>\n",
       "      <td>2</td>\n",
       "      <td>22</td>\n",
       "      <td>3810</td>\n",
       "      <td>36</td>\n",
       "      <td>NaN</td>\n",
       "    </tr>\n",
       "  </tbody>\n",
       "</table>\n",
       "</div>"
      ],
      "text/plain": [
       "   JWMNP   HINCP  AGEP  HUPAOC  NATIVITY  SEX  SCHL  PUMA  ST  Unnamed: 9\n",
       "0      0  190000    45       2         1    1    23  3810  36         NaN\n",
       "1      0  190000    13       2         1    2    10  3810  36         NaN\n",
       "2      0  190000    10       2         1    1     6  3810  36         NaN\n",
       "3      0  300000    39       4         2    1    22  3810  36         NaN\n",
       "4      0   36900    83       4         1    2    22  3810  36         NaN"
      ]
     },
     "execution_count": 57,
     "metadata": {},
     "output_type": "execute_result"
    }
   ],
   "source": [
    "df = pd.read_csv(\"ACSPUMS1Y2021_2023-04-20T161419.csv\")\n",
    "df.head()\n"
   ]
  },
  {
   "cell_type": "markdown",
   "id": "8a87dee7-a3ef-4de3-a9e8-e1774b48072a",
   "metadata": {},
   "source": [
    "#### Specific variables :\n",
    "\n",
    "HINCP - Household income (past 12 months, use ADJINC to adjust HINCP to constant dollars)\n",
    "\n",
    "HUPAOC - HH presence and age of own children\n",
    "\n",
    "SCHL - Educational attainment\n",
    "\n",
    "NATIVITY - Nativity\n",
    "\n",
    "SEX - Sex\n",
    "\n",
    "JWMNP - Travel time to work\n",
    "\n",
    "AGEP - Age"
   ]
  },
  {
   "cell_type": "markdown",
   "id": "d0d00bdb-a7c1-423d-80f7-e05bf03bcdce",
   "metadata": {},
   "source": [
    "#### Context and methodology:\n",
    "\n",
    "There is a great abundance of may variables on demographics, economics, employment, citizenship, education, houshold etc. we can explore any amount of problems we want\n",
    "\n",
    "even just from my random example we could study how age, education, commute time, or having children impacts earnings. And there are still many more variables we can study\n",
    "\n",
    "##### (honestly all the census data alone gives us much more choices than we need)"
   ]
  },
  {
   "cell_type": "markdown",
   "id": "8265bf44-40d3-41a7-9530-cb983fa77042",
   "metadata": {},
   "source": [
    "## Option2: Federal Reserve Economic Data\n",
    "The U.S. federal reserve data is also avalible for download, and of course includes comprehensive data on U.S. employment, infaltion, financial markets and other such data. \n",
    "\n",
    "link: https://fredhelp.stlouisfed.org/fred/data/downloading/using-the-download-data-link/"
   ]
  },
  {
   "cell_type": "code",
   "execution_count": 37,
   "id": "6d9bfae9-9b47-4c08-a711-f9c58b10a792",
   "metadata": {},
   "outputs": [
    {
     "data": {
      "text/html": [
       "<div>\n",
       "<style scoped>\n",
       "    .dataframe tbody tr th:only-of-type {\n",
       "        vertical-align: middle;\n",
       "    }\n",
       "\n",
       "    .dataframe tbody tr th {\n",
       "        vertical-align: top;\n",
       "    }\n",
       "\n",
       "    .dataframe thead th {\n",
       "        text-align: right;\n",
       "    }\n",
       "</style>\n",
       "<table border=\"1\" class=\"dataframe\">\n",
       "  <thead>\n",
       "    <tr style=\"text-align: right;\">\n",
       "      <th></th>\n",
       "      <th>DATE</th>\n",
       "      <th>CPILFESL</th>\n",
       "    </tr>\n",
       "  </thead>\n",
       "  <tbody>\n",
       "    <tr>\n",
       "      <th>0</th>\n",
       "      <td>1957-01-01</td>\n",
       "      <td>28.500</td>\n",
       "    </tr>\n",
       "    <tr>\n",
       "      <th>1</th>\n",
       "      <td>1957-02-01</td>\n",
       "      <td>28.600</td>\n",
       "    </tr>\n",
       "    <tr>\n",
       "      <th>2</th>\n",
       "      <td>1957-03-01</td>\n",
       "      <td>28.700</td>\n",
       "    </tr>\n",
       "    <tr>\n",
       "      <th>3</th>\n",
       "      <td>1957-04-01</td>\n",
       "      <td>28.800</td>\n",
       "    </tr>\n",
       "    <tr>\n",
       "      <th>4</th>\n",
       "      <td>1957-05-01</td>\n",
       "      <td>28.800</td>\n",
       "    </tr>\n",
       "    <tr>\n",
       "      <th>...</th>\n",
       "      <td>...</td>\n",
       "      <td>...</td>\n",
       "    </tr>\n",
       "    <tr>\n",
       "      <th>790</th>\n",
       "      <td>2022-11-01</td>\n",
       "      <td>300.261</td>\n",
       "    </tr>\n",
       "    <tr>\n",
       "      <th>791</th>\n",
       "      <td>2022-12-01</td>\n",
       "      <td>301.460</td>\n",
       "    </tr>\n",
       "    <tr>\n",
       "      <th>792</th>\n",
       "      <td>2023-01-01</td>\n",
       "      <td>302.702</td>\n",
       "    </tr>\n",
       "    <tr>\n",
       "      <th>793</th>\n",
       "      <td>2023-02-01</td>\n",
       "      <td>304.070</td>\n",
       "    </tr>\n",
       "    <tr>\n",
       "      <th>794</th>\n",
       "      <td>2023-03-01</td>\n",
       "      <td>305.240</td>\n",
       "    </tr>\n",
       "  </tbody>\n",
       "</table>\n",
       "<p>795 rows × 2 columns</p>\n",
       "</div>"
      ],
      "text/plain": [
       "           DATE  CPILFESL\n",
       "0    1957-01-01    28.500\n",
       "1    1957-02-01    28.600\n",
       "2    1957-03-01    28.700\n",
       "3    1957-04-01    28.800\n",
       "4    1957-05-01    28.800\n",
       "..          ...       ...\n",
       "790  2022-11-01   300.261\n",
       "791  2022-12-01   301.460\n",
       "792  2023-01-01   302.702\n",
       "793  2023-02-01   304.070\n",
       "794  2023-03-01   305.240\n",
       "\n",
       "[795 rows x 2 columns]"
      ]
     },
     "execution_count": 37,
     "metadata": {},
     "output_type": "execute_result"
    }
   ],
   "source": [
    "df2 = pd.read_csv(\"FRED_inflation_data.csv\")\n",
    "#again my local directory\n",
    "df2"
   ]
  },
  {
   "cell_type": "markdown",
   "id": "f4516718-c032-4dc1-a2dc-9353456a08da",
   "metadata": {},
   "source": [
    "for example here is a record of monthly CPI data since 1957. \n",
    "\n",
    "(one issue is that to have multiple variables we will have to download seperately, then conbine them (aka copy paste in excel or something))"
   ]
  },
  {
   "cell_type": "markdown",
   "id": "4bf9f9fa-5237-4ae5-86b5-b2e0f5b69f85",
   "metadata": {},
   "source": [
    "#### Context and methodology:\n",
    "\n",
    "Similarly there are many questions we can study relating to the economy of the U.S. using this dataset\n",
    "\n",
    "for example we can try and find the correlations of different economic variabels with inflation--including such as housing starts, consumer borrowing, wage growth, unemmployment etc. "
   ]
  }
 ],
 "metadata": {
  "kernelspec": {
   "display_name": "Python 3 (ipykernel)",
   "language": "python",
   "name": "python3"
  },
  "language_info": {
   "codemirror_mode": {
    "name": "ipython",
    "version": 3
   },
   "file_extension": ".py",
   "mimetype": "text/x-python",
   "name": "python",
   "nbconvert_exporter": "python",
   "pygments_lexer": "ipython3",
   "version": "3.9.13"
  }
 },
 "nbformat": 4,
 "nbformat_minor": 5
}
