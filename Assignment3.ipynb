{
 "cells": [
  {
   "cell_type": "markdown",
   "id": "0b5a6d44",
   "metadata": {},
   "source": [
    "In a notebook, please perform the following tasks:\n",
    "\n",
    "Problem 1:\n",
    "\n",
    "Predicting prices: Using any of the methods for prediction you have learned (With the exception of linear regression!) , use the dataset in this Kaggle page:\n",
    "https://www.kaggle.com/altavish/boston-housing-dataset\n",
    "and find a good prediction model for the the median value of housing (MEDV). The variables in the dataset are as follows\n",
    "\n",
    "* CRIM: Per capita crime rate by town\n",
    "* ZN: Proportion of residential land zoned for lots over 25,000 sq. ft\n",
    "* INDUS: Proportion of non-retail business acres per town\n",
    "* CHAS: Charles River dummy variable (= 1 if tract bounds river; 0 otherwise)\n",
    "* NOX: Nitric oxide concentration (parts per 10 million)\n",
    "* RM: Average number of rooms per dwelling\n",
    "* AGE: Proportion of owner-occupied units built prior to 1940\n",
    "* DIS: Weighted distances to five Boston employment centers\n",
    "* RAD: Index of accessibility to radial highways\n",
    "* TAX: Full-value property tax rate per 10,000\n",
    "* PTRATIO: Pupil-teacher ratio by town\n",
    "* B: 1000(Bk — 0.63)², where Bk is the proportion of [people of African American descent] by town\n",
    "* LSTAT: Percentage of lower status of the population\n",
    "* MEDV: Median value of owner-occupied homes in $1000s\n",
    "Make sure to deal with null values and find the best hyperparameters you can for your choice of model (use train/test split or crossvalidation). Watch out for outliers!"
   ]
  },
  {
   "cell_type": "code",
   "execution_count": 1,
   "id": "6538b11b",
   "metadata": {},
   "outputs": [],
   "source": [
    "import pandas as pd\n",
    "import numpy as np\n",
    "from plotnine import *\n",
    "%matplotlib inline\n",
    "from sklearn.neighbors import KNeighborsRegressor as knn\n",
    "import pandas as pd\n",
    "from sklearn.model_selection import cross_val_score\n",
    "from sklearn.model_selection import train_test_split\n",
    "from sklearn.metrics import classification_report\n",
    "from sklearn.metrics import roc_auc_score\n",
    "from sklearn.metrics import accuracy_score, confusion_matrix, roc_auc_score, roc_curve\n",
    "from sklearn.ensemble import  RandomForestClassifier\n",
    "from sklearn.linear_model import LogisticRegression\n",
    "from sklearn import datasets\n",
    "from sklearn.utils import resample\n",
    "from sklearn.ensemble import RandomForestRegressor as rf\n"
   ]
  },
  {
   "cell_type": "code",
   "execution_count": 2,
   "id": "7ba9a521",
   "metadata": {
    "scrolled": false
   },
   "outputs": [
    {
     "data": {
      "text/html": [
       "<div>\n",
       "<style scoped>\n",
       "    .dataframe tbody tr th:only-of-type {\n",
       "        vertical-align: middle;\n",
       "    }\n",
       "\n",
       "    .dataframe tbody tr th {\n",
       "        vertical-align: top;\n",
       "    }\n",
       "\n",
       "    .dataframe thead th {\n",
       "        text-align: right;\n",
       "    }\n",
       "</style>\n",
       "<table border=\"1\" class=\"dataframe\">\n",
       "  <thead>\n",
       "    <tr style=\"text-align: right;\">\n",
       "      <th></th>\n",
       "      <th>CRIM</th>\n",
       "      <th>ZN</th>\n",
       "      <th>INDUS</th>\n",
       "      <th>CHAS</th>\n",
       "      <th>NOX</th>\n",
       "      <th>RM</th>\n",
       "      <th>AGE</th>\n",
       "      <th>DIS</th>\n",
       "      <th>RAD</th>\n",
       "      <th>TAX</th>\n",
       "      <th>PTRATIO</th>\n",
       "      <th>B</th>\n",
       "      <th>LSTAT</th>\n",
       "      <th>MEDV</th>\n",
       "    </tr>\n",
       "  </thead>\n",
       "  <tbody>\n",
       "    <tr>\n",
       "      <th>0</th>\n",
       "      <td>0.00632</td>\n",
       "      <td>18.0</td>\n",
       "      <td>2.31</td>\n",
       "      <td>0.0</td>\n",
       "      <td>0.538</td>\n",
       "      <td>6.575</td>\n",
       "      <td>65.2</td>\n",
       "      <td>4.0900</td>\n",
       "      <td>1</td>\n",
       "      <td>296</td>\n",
       "      <td>15.3</td>\n",
       "      <td>396.90</td>\n",
       "      <td>4.98</td>\n",
       "      <td>24.0</td>\n",
       "    </tr>\n",
       "    <tr>\n",
       "      <th>1</th>\n",
       "      <td>0.02731</td>\n",
       "      <td>0.0</td>\n",
       "      <td>7.07</td>\n",
       "      <td>0.0</td>\n",
       "      <td>0.469</td>\n",
       "      <td>6.421</td>\n",
       "      <td>78.9</td>\n",
       "      <td>4.9671</td>\n",
       "      <td>2</td>\n",
       "      <td>242</td>\n",
       "      <td>17.8</td>\n",
       "      <td>396.90</td>\n",
       "      <td>9.14</td>\n",
       "      <td>21.6</td>\n",
       "    </tr>\n",
       "    <tr>\n",
       "      <th>2</th>\n",
       "      <td>0.02729</td>\n",
       "      <td>0.0</td>\n",
       "      <td>7.07</td>\n",
       "      <td>0.0</td>\n",
       "      <td>0.469</td>\n",
       "      <td>7.185</td>\n",
       "      <td>61.1</td>\n",
       "      <td>4.9671</td>\n",
       "      <td>2</td>\n",
       "      <td>242</td>\n",
       "      <td>17.8</td>\n",
       "      <td>392.83</td>\n",
       "      <td>4.03</td>\n",
       "      <td>34.7</td>\n",
       "    </tr>\n",
       "    <tr>\n",
       "      <th>3</th>\n",
       "      <td>0.03237</td>\n",
       "      <td>0.0</td>\n",
       "      <td>2.18</td>\n",
       "      <td>0.0</td>\n",
       "      <td>0.458</td>\n",
       "      <td>6.998</td>\n",
       "      <td>45.8</td>\n",
       "      <td>6.0622</td>\n",
       "      <td>3</td>\n",
       "      <td>222</td>\n",
       "      <td>18.7</td>\n",
       "      <td>394.63</td>\n",
       "      <td>2.94</td>\n",
       "      <td>33.4</td>\n",
       "    </tr>\n",
       "    <tr>\n",
       "      <th>5</th>\n",
       "      <td>0.02985</td>\n",
       "      <td>0.0</td>\n",
       "      <td>2.18</td>\n",
       "      <td>0.0</td>\n",
       "      <td>0.458</td>\n",
       "      <td>6.430</td>\n",
       "      <td>58.7</td>\n",
       "      <td>6.0622</td>\n",
       "      <td>3</td>\n",
       "      <td>222</td>\n",
       "      <td>18.7</td>\n",
       "      <td>394.12</td>\n",
       "      <td>5.21</td>\n",
       "      <td>28.7</td>\n",
       "    </tr>\n",
       "  </tbody>\n",
       "</table>\n",
       "</div>"
      ],
      "text/plain": [
       "      CRIM    ZN  INDUS  CHAS    NOX     RM   AGE     DIS  RAD  TAX  PTRATIO  \\\n",
       "0  0.00632  18.0   2.31   0.0  0.538  6.575  65.2  4.0900    1  296     15.3   \n",
       "1  0.02731   0.0   7.07   0.0  0.469  6.421  78.9  4.9671    2  242     17.8   \n",
       "2  0.02729   0.0   7.07   0.0  0.469  7.185  61.1  4.9671    2  242     17.8   \n",
       "3  0.03237   0.0   2.18   0.0  0.458  6.998  45.8  6.0622    3  222     18.7   \n",
       "5  0.02985   0.0   2.18   0.0  0.458  6.430  58.7  6.0622    3  222     18.7   \n",
       "\n",
       "        B  LSTAT  MEDV  \n",
       "0  396.90   4.98  24.0  \n",
       "1  396.90   9.14  21.6  \n",
       "2  392.83   4.03  34.7  \n",
       "3  394.63   2.94  33.4  \n",
       "5  394.12   5.21  28.7  "
      ]
     },
     "execution_count": 2,
     "metadata": {},
     "output_type": "execute_result"
    }
   ],
   "source": [
    "url = r\"C:\\Users\\jesse\\Downloads\\Bootcamp\\HousingData.csv\"\n",
    "df = pd.read_csv(url)\n",
    "df.dropna(inplace=True)\n",
    "df.head()"
   ]
  },
  {
   "cell_type": "code",
   "execution_count": 3,
   "id": "ca52b84c",
   "metadata": {
    "scrolled": false
   },
   "outputs": [
    {
     "name": "stdout",
     "output_type": "stream",
     "text": [
      "Index(['ZN', 'CHAS'], dtype='object')\n"
     ]
    }
   ],
   "source": [
    "# finding columns with 0 in them\n",
    "zero_columns = df.columns[(df == 0).any()]\n",
    "print(zero_columns)"
   ]
  },
  {
   "cell_type": "code",
   "execution_count": 4,
   "id": "3fd0ccc6",
   "metadata": {},
   "outputs": [],
   "source": [
    "# doing log of columns with no 0 in them\n",
    "df['lnCRIM'] = np.log(df['CRIM'])\n",
    "df['lnINDUS'] = np.log(df['INDUS'])\n",
    "df['lnNOX'] = np.log(df['NOX'])\n",
    "df['lnRM'] = np.log(df['RM'])\n",
    "df['lnAGE'] = np.log(df['AGE'])\n",
    "df['lnDIS'] = np.log(df['DIS'])\n",
    "df['lnRAD'] = np.log(df['RAD'])\n",
    "df['lnTAX'] = np.log(df['TAX'])\n",
    "df['lnPTRATIO'] = np.log(df['PTRATIO'])\n",
    "df['lnB'] = np.log(df['B'])"
   ]
  },
  {
   "cell_type": "code",
   "execution_count": 5,
   "id": "792d1a4f",
   "metadata": {},
   "outputs": [],
   "source": [
    "# doing cross validation with knn model, hyperparameter tuning\n",
    "scoreCV=[cross_val_score(knn(n_neighbors=i),X=df[['lnCRIM','ZN','lnINDUS','CHAS','lnNOX','lnRM','lnAGE','lnDIS','lnRAD','lnTAX','lnPTRATIO','lnB','LSTAT']],\n",
    "                y=df['MEDV'],\n",
    "                         cv=5).mean() for i in list(range(5, 300))]"
   ]
  },
  {
   "cell_type": "code",
   "execution_count": 6,
   "id": "009db097",
   "metadata": {
    "scrolled": true
   },
   "outputs": [
    {
     "data": {
      "text/plain": [
       "scores       0.249108\n",
       "neighbors    9.000000\n",
       "Name: 4, dtype: float64"
      ]
     },
     "execution_count": 6,
     "metadata": {},
     "output_type": "execute_result"
    }
   ],
   "source": [
    "df_CV=pd.DataFrame(scoreCV, columns=['scores'])\n",
    "df_CV['neighbors']=list(range(5, 300))\n",
    "\n",
    "df_CV\n",
    "#What is the optimal number of neighbors\n",
    "max_row = df_CV.loc[df_CV['scores'].idxmax()]\n",
    "max_row"
   ]
  },
  {
   "cell_type": "code",
   "execution_count": 7,
   "id": "d9f14f54",
   "metadata": {},
   "outputs": [
    {
     "data": {
      "image/png": "[encoded data removed]",
      "text/plain": [
       "<Figure size 640x480 with 1 Axes>"
      ]
     },
     "metadata": {},
     "output_type": "display_data"
    },
    {
     "data": {
      "text/plain": [
       "<ggplot: (118635839010)>"
      ]
     },
     "execution_count": 7,
     "metadata": {},
     "output_type": "execute_result"
    }
   ],
   "source": [
    "(ggplot(df_CV, aes(x='neighbors', y='scores'))+\n",
    " geom_line(color='darkorange')+\n",
    "theme_bw())"
   ]
  },
  {
   "cell_type": "code",
   "execution_count": 8,
   "id": "75fabe67",
   "metadata": {},
   "outputs": [],
   "source": [
    "# trying random forest \n",
    "scoresrf=[cross_val_score(rf(n_estimators=100,max_depth=i),\n",
    "                          df[['lnCRIM','ZN','lnINDUS','CHAS','lnNOX','lnRM','lnAGE','lnDIS','lnRAD','lnTAX','lnPTRATIO','lnB','LSTAT']],df['MEDV'],\n",
    "                          cv=5).mean() for i in list(range(1,15))\n",
    "    ]"
   ]
  },
  {
   "cell_type": "code",
   "execution_count": 9,
   "id": "ae16ec02",
   "metadata": {},
   "outputs": [
    {
     "data": {
      "text/html": [
       "<div>\n",
       "<style scoped>\n",
       "    .dataframe tbody tr th:only-of-type {\n",
       "        vertical-align: middle;\n",
       "    }\n",
       "\n",
       "    .dataframe tbody tr th {\n",
       "        vertical-align: top;\n",
       "    }\n",
       "\n",
       "    .dataframe thead th {\n",
       "        text-align: right;\n",
       "    }\n",
       "</style>\n",
       "<table border=\"1\" class=\"dataframe\">\n",
       "  <thead>\n",
       "    <tr style=\"text-align: right;\">\n",
       "      <th></th>\n",
       "      <th>scores</th>\n",
       "      <th>depth</th>\n",
       "    </tr>\n",
       "  </thead>\n",
       "  <tbody>\n",
       "    <tr>\n",
       "      <th>0</th>\n",
       "      <td>-0.014785</td>\n",
       "      <td>1</td>\n",
       "    </tr>\n",
       "    <tr>\n",
       "      <th>1</th>\n",
       "      <td>0.501059</td>\n",
       "      <td>2</td>\n",
       "    </tr>\n",
       "    <tr>\n",
       "      <th>2</th>\n",
       "      <td>0.562419</td>\n",
       "      <td>3</td>\n",
       "    </tr>\n",
       "    <tr>\n",
       "      <th>3</th>\n",
       "      <td>0.551469</td>\n",
       "      <td>4</td>\n",
       "    </tr>\n",
       "    <tr>\n",
       "      <th>4</th>\n",
       "      <td>0.547312</td>\n",
       "      <td>5</td>\n",
       "    </tr>\n",
       "    <tr>\n",
       "      <th>5</th>\n",
       "      <td>0.560984</td>\n",
       "      <td>6</td>\n",
       "    </tr>\n",
       "    <tr>\n",
       "      <th>6</th>\n",
       "      <td>0.584335</td>\n",
       "      <td>7</td>\n",
       "    </tr>\n",
       "    <tr>\n",
       "      <th>7</th>\n",
       "      <td>0.579940</td>\n",
       "      <td>8</td>\n",
       "    </tr>\n",
       "    <tr>\n",
       "      <th>8</th>\n",
       "      <td>0.547235</td>\n",
       "      <td>9</td>\n",
       "    </tr>\n",
       "    <tr>\n",
       "      <th>9</th>\n",
       "      <td>0.590343</td>\n",
       "      <td>10</td>\n",
       "    </tr>\n",
       "    <tr>\n",
       "      <th>10</th>\n",
       "      <td>0.577656</td>\n",
       "      <td>11</td>\n",
       "    </tr>\n",
       "    <tr>\n",
       "      <th>11</th>\n",
       "      <td>0.580549</td>\n",
       "      <td>12</td>\n",
       "    </tr>\n",
       "    <tr>\n",
       "      <th>12</th>\n",
       "      <td>0.579457</td>\n",
       "      <td>13</td>\n",
       "    </tr>\n",
       "    <tr>\n",
       "      <th>13</th>\n",
       "      <td>0.592680</td>\n",
       "      <td>14</td>\n",
       "    </tr>\n",
       "  </tbody>\n",
       "</table>\n",
       "</div>"
      ],
      "text/plain": [
       "      scores  depth\n",
       "0  -0.014785      1\n",
       "1   0.501059      2\n",
       "2   0.562419      3\n",
       "3   0.551469      4\n",
       "4   0.547312      5\n",
       "5   0.560984      6\n",
       "6   0.584335      7\n",
       "7   0.579940      8\n",
       "8   0.547235      9\n",
       "9   0.590343     10\n",
       "10  0.577656     11\n",
       "11  0.580549     12\n",
       "12  0.579457     13\n",
       "13  0.592680     14"
      ]
     },
     "execution_count": 9,
     "metadata": {},
     "output_type": "execute_result"
    }
   ],
   "source": [
    "rf_df=pd.DataFrame(scoresrf, columns=['scores'])\n",
    "\n",
    "rf_df['depth']=list(range(1,15))\n",
    "rf_df"
   ]
  },
  {
   "cell_type": "code",
   "execution_count": 10,
   "id": "ec469b4b",
   "metadata": {
    "scrolled": true
   },
   "outputs": [
    {
     "data": {
      "image/png": "[encoded data removed]",
      "text/plain": [
       "<Figure size 640x480 with 1 Axes>"
      ]
     },
     "metadata": {},
     "output_type": "display_data"
    },
    {
     "data": {
      "text/plain": [
       "<ggplot: (118636468730)>"
      ]
     },
     "execution_count": 10,
     "metadata": {},
     "output_type": "execute_result"
    }
   ],
   "source": [
    "(ggplot(rf_df, aes(x='depth', y='scores'))+\n",
    "geom_line(color='darkorange')+\n",
    "theme_bw())"
   ]
  },
  {
   "cell_type": "code",
   "execution_count": 11,
   "id": "40f875c3",
   "metadata": {
    "scrolled": false
   },
   "outputs": [
    {
     "data": {
      "text/plain": [
       "13    14\n",
       "Name: depth, dtype: int64"
      ]
     },
     "execution_count": 11,
     "metadata": {},
     "output_type": "execute_result"
    }
   ],
   "source": [
    "#Let's find the maximum depth\n",
    "\n",
    "rf_df.loc[rf_df['scores']==rf_df.scores.max(), 'depth']"
   ]
  },
  {
   "cell_type": "code",
   "execution_count": 12,
   "id": "1a2c9f8b",
   "metadata": {},
   "outputs": [
    {
     "data": {
      "text/plain": [
       "0.5621133116029897"
      ]
     },
     "execution_count": 12,
     "metadata": {},
     "output_type": "execute_result"
    }
   ],
   "source": [
    "scoresrf=cross_val_score(rf(n_estimators=100,max_depth=3),\n",
    "                          df[['lnCRIM','ZN','lnINDUS','CHAS','lnNOX','lnRM','lnAGE','lnDIS','lnRAD','lnTAX','lnPTRATIO','lnB','LSTAT']],df['MEDV'],\n",
    "                          cv=5).mean()\n",
    "scoresrf"
   ]
  },
  {
   "cell_type": "markdown",
   "id": "b25041e8",
   "metadata": {},
   "source": [
    "Problem 2\n",
    "\n",
    "Classification: Using the following dataset:\n",
    "https://www.kaggle.com/vikasukani/parkinsons-disease-data-set\n",
    "Create the best classification model you can using what we learned in class. Use any of the methods we explored and show how you assessed how good your model is carefully. Using AUC is a good idea. The label variable is \"status.\" Hint: .data files can be read with read_csv like:\n",
    "\n",
    "pd.read_csv('parkinsons.data')\n",
    "\n",
    "The variables are as follows:\n",
    "\n",
    "\n",
    "name - ASCII subject name and recording number\n",
    "\n",
    "MDVP:Fo(Hz) - Average vocal fundamental frequency\n",
    "\n",
    "MDVP:Fhi(Hz) - Maximum vocal fundamental frequency\n",
    "\n",
    "MDVP:Flo(Hz) - Minimum vocal fundamental frequency\n",
    "\n",
    "MDVP:Jitter(%) , MDVP:Jitter(Abs) , MDVP:RAP , MDVP:PPQ , Jitter:DDP - Several measures of variation in fundamental frequency\n",
    "\n",
    "MDVP:Shimmer , MDVP:Shimmer(dB) , Shimmer:APQ3 , Shimmer:APQ5 , MDVP:APQ , Shimmer:DDA - Several measures of variation in amplitude\n",
    "\n",
    "NHR , HNR - Two measures of ratio of noise to tonal components in the voice\n",
    "\n",
    "status - Health status of the subject (one) - Parkinson's, (zero) - healthy\n",
    "\n",
    "RPDE , D2 - Two nonlinear dynamical complexity measures\n",
    "\n",
    "DFA - Signal fractal scaling exponent\n",
    "\n",
    "spread1 , spread2 , PPE - Three nonlinear measures of fundamental frequency variation"
   ]
  },
  {
   "cell_type": "code",
   "execution_count": 13,
   "id": "51c3002b",
   "metadata": {
    "scrolled": false
   },
   "outputs": [
    {
     "data": {
      "text/html": [
       "<div>\n",
       "<style scoped>\n",
       "    .dataframe tbody tr th:only-of-type {\n",
       "        vertical-align: middle;\n",
       "    }\n",
       "\n",
       "    .dataframe tbody tr th {\n",
       "        vertical-align: top;\n",
       "    }\n",
       "\n",
       "    .dataframe thead th {\n",
       "        text-align: right;\n",
       "    }\n",
       "</style>\n",
       "<table border=\"1\" class=\"dataframe\">\n",
       "  <thead>\n",
       "    <tr style=\"text-align: right;\">\n",
       "      <th></th>\n",
       "      <th>name</th>\n",
       "      <th>MDVP:Fo(Hz)</th>\n",
       "      <th>MDVP:Fhi(Hz)</th>\n",
       "      <th>MDVP:Flo(Hz)</th>\n",
       "      <th>MDVP:Jitter(%)</th>\n",
       "      <th>MDVP:Jitter(Abs)</th>\n",
       "      <th>MDVP:RAP</th>\n",
       "      <th>MDVP:PPQ</th>\n",
       "      <th>Jitter:DDP</th>\n",
       "      <th>MDVP:Shimmer</th>\n",
       "      <th>...</th>\n",
       "      <th>Shimmer:DDA</th>\n",
       "      <th>NHR</th>\n",
       "      <th>HNR</th>\n",
       "      <th>status</th>\n",
       "      <th>RPDE</th>\n",
       "      <th>DFA</th>\n",
       "      <th>spread1</th>\n",
       "      <th>spread2</th>\n",
       "      <th>D2</th>\n",
       "      <th>PPE</th>\n",
       "    </tr>\n",
       "  </thead>\n",
       "  <tbody>\n",
       "    <tr>\n",
       "      <th>0</th>\n",
       "      <td>phon_R01_S01_1</td>\n",
       "      <td>119.992</td>\n",
       "      <td>157.302</td>\n",
       "      <td>74.997</td>\n",
       "      <td>0.00784</td>\n",
       "      <td>0.00007</td>\n",
       "      <td>0.00370</td>\n",
       "      <td>0.00554</td>\n",
       "      <td>0.01109</td>\n",
       "      <td>0.04374</td>\n",
       "      <td>...</td>\n",
       "      <td>0.06545</td>\n",
       "      <td>0.02211</td>\n",
       "      <td>21.033</td>\n",
       "      <td>1</td>\n",
       "      <td>0.414783</td>\n",
       "      <td>0.815285</td>\n",
       "      <td>-4.813031</td>\n",
       "      <td>0.266482</td>\n",
       "      <td>2.301442</td>\n",
       "      <td>0.284654</td>\n",
       "    </tr>\n",
       "    <tr>\n",
       "      <th>1</th>\n",
       "      <td>phon_R01_S01_2</td>\n",
       "      <td>122.400</td>\n",
       "      <td>148.650</td>\n",
       "      <td>113.819</td>\n",
       "      <td>0.00968</td>\n",
       "      <td>0.00008</td>\n",
       "      <td>0.00465</td>\n",
       "      <td>0.00696</td>\n",
       "      <td>0.01394</td>\n",
       "      <td>0.06134</td>\n",
       "      <td>...</td>\n",
       "      <td>0.09403</td>\n",
       "      <td>0.01929</td>\n",
       "      <td>19.085</td>\n",
       "      <td>1</td>\n",
       "      <td>0.458359</td>\n",
       "      <td>0.819521</td>\n",
       "      <td>-4.075192</td>\n",
       "      <td>0.335590</td>\n",
       "      <td>2.486855</td>\n",
       "      <td>0.368674</td>\n",
       "    </tr>\n",
       "    <tr>\n",
       "      <th>2</th>\n",
       "      <td>phon_R01_S01_3</td>\n",
       "      <td>116.682</td>\n",
       "      <td>131.111</td>\n",
       "      <td>111.555</td>\n",
       "      <td>0.01050</td>\n",
       "      <td>0.00009</td>\n",
       "      <td>0.00544</td>\n",
       "      <td>0.00781</td>\n",
       "      <td>0.01633</td>\n",
       "      <td>0.05233</td>\n",
       "      <td>...</td>\n",
       "      <td>0.08270</td>\n",
       "      <td>0.01309</td>\n",
       "      <td>20.651</td>\n",
       "      <td>1</td>\n",
       "      <td>0.429895</td>\n",
       "      <td>0.825288</td>\n",
       "      <td>-4.443179</td>\n",
       "      <td>0.311173</td>\n",
       "      <td>2.342259</td>\n",
       "      <td>0.332634</td>\n",
       "    </tr>\n",
       "    <tr>\n",
       "      <th>3</th>\n",
       "      <td>phon_R01_S01_4</td>\n",
       "      <td>116.676</td>\n",
       "      <td>137.871</td>\n",
       "      <td>111.366</td>\n",
       "      <td>0.00997</td>\n",
       "      <td>0.00009</td>\n",
       "      <td>0.00502</td>\n",
       "      <td>0.00698</td>\n",
       "      <td>0.01505</td>\n",
       "      <td>0.05492</td>\n",
       "      <td>...</td>\n",
       "      <td>0.08771</td>\n",
       "      <td>0.01353</td>\n",
       "      <td>20.644</td>\n",
       "      <td>1</td>\n",
       "      <td>0.434969</td>\n",
       "      <td>0.819235</td>\n",
       "      <td>-4.117501</td>\n",
       "      <td>0.334147</td>\n",
       "      <td>2.405554</td>\n",
       "      <td>0.368975</td>\n",
       "    </tr>\n",
       "    <tr>\n",
       "      <th>4</th>\n",
       "      <td>phon_R01_S01_5</td>\n",
       "      <td>116.014</td>\n",
       "      <td>141.781</td>\n",
       "      <td>110.655</td>\n",
       "      <td>0.01284</td>\n",
       "      <td>0.00011</td>\n",
       "      <td>0.00655</td>\n",
       "      <td>0.00908</td>\n",
       "      <td>0.01966</td>\n",
       "      <td>0.06425</td>\n",
       "      <td>...</td>\n",
       "      <td>0.10470</td>\n",
       "      <td>0.01767</td>\n",
       "      <td>19.649</td>\n",
       "      <td>1</td>\n",
       "      <td>0.417356</td>\n",
       "      <td>0.823484</td>\n",
       "      <td>-3.747787</td>\n",
       "      <td>0.234513</td>\n",
       "      <td>2.332180</td>\n",
       "      <td>0.410335</td>\n",
       "    </tr>\n",
       "  </tbody>\n",
       "</table>\n",
       "<p>5 rows × 24 columns</p>\n",
       "</div>"
      ],
      "text/plain": [
       "             name  MDVP:Fo(Hz)  MDVP:Fhi(Hz)  MDVP:Flo(Hz)  MDVP:Jitter(%)  \\\n",
       "0  phon_R01_S01_1      119.992       157.302        74.997         0.00784   \n",
       "1  phon_R01_S01_2      122.400       148.650       113.819         0.00968   \n",
       "2  phon_R01_S01_3      116.682       131.111       111.555         0.01050   \n",
       "3  phon_R01_S01_4      116.676       137.871       111.366         0.00997   \n",
       "4  phon_R01_S01_5      116.014       141.781       110.655         0.01284   \n",
       "\n",
       "   MDVP:Jitter(Abs)  MDVP:RAP  MDVP:PPQ  Jitter:DDP  MDVP:Shimmer  ...  \\\n",
       "0           0.00007   0.00370   0.00554     0.01109       0.04374  ...   \n",
       "1           0.00008   0.00465   0.00696     0.01394       0.06134  ...   \n",
       "2           0.00009   0.00544   0.00781     0.01633       0.05233  ...   \n",
       "3           0.00009   0.00502   0.00698     0.01505       0.05492  ...   \n",
       "4           0.00011   0.00655   0.00908     0.01966       0.06425  ...   \n",
       "\n",
       "   Shimmer:DDA      NHR     HNR  status      RPDE       DFA   spread1  \\\n",
       "0      0.06545  0.02211  21.033       1  0.414783  0.815285 -4.813031   \n",
       "1      0.09403  0.01929  19.085       1  0.458359  0.819521 -4.075192   \n",
       "2      0.08270  0.01309  20.651       1  0.429895  0.825288 -4.443179   \n",
       "3      0.08771  0.01353  20.644       1  0.434969  0.819235 -4.117501   \n",
       "4      0.10470  0.01767  19.649       1  0.417356  0.823484 -3.747787   \n",
       "\n",
       "    spread2        D2       PPE  \n",
       "0  0.266482  2.301442  0.284654  \n",
       "1  0.335590  2.486855  0.368674  \n",
       "2  0.311173  2.342259  0.332634  \n",
       "3  0.334147  2.405554  0.368975  \n",
       "4  0.234513  2.332180  0.410335  \n",
       "\n",
       "[5 rows x 24 columns]"
      ]
     },
     "execution_count": 13,
     "metadata": {},
     "output_type": "execute_result"
    }
   ],
   "source": [
    "url = r\"C:\\Users\\jesse\\Downloads\\Bootcamp\\parkinsons.data\"\n",
    "df = pd.read_csv(url)\n",
    "df.dropna(inplace=True)\n",
    "df.head()"
   ]
  },
  {
   "cell_type": "markdown",
   "id": "29549e14",
   "metadata": {},
   "source": [
    "### balancing data"
   ]
  },
  {
   "cell_type": "code",
   "execution_count": 14,
   "id": "c60c52ca",
   "metadata": {},
   "outputs": [],
   "source": [
    "df_majority = df[df['status']==0]\n",
    "df_minority = df[df['status']==1]"
   ]
  },
  {
   "cell_type": "code",
   "execution_count": 15,
   "id": "f3a313bb",
   "metadata": {},
   "outputs": [
    {
     "data": {
      "text/plain": [
       "(48, 24)"
      ]
     },
     "execution_count": 15,
     "metadata": {},
     "output_type": "execute_result"
    }
   ],
   "source": [
    "df_majority.shape"
   ]
  },
  {
   "cell_type": "code",
   "execution_count": 16,
   "id": "e767d808",
   "metadata": {},
   "outputs": [
    {
     "data": {
      "text/plain": [
       "(147, 24)"
      ]
     },
     "execution_count": 16,
     "metadata": {},
     "output_type": "execute_result"
    }
   ],
   "source": [
    "df_minority.shape"
   ]
  },
  {
   "cell_type": "markdown",
   "id": "36a6158c",
   "metadata": {},
   "source": [
    "Heavily baised toward one side"
   ]
  },
  {
   "cell_type": "code",
   "execution_count": 17,
   "id": "efc3b179",
   "metadata": {},
   "outputs": [
    {
     "data": {
      "text/plain": [
       "(147, 24)"
      ]
     },
     "execution_count": 17,
     "metadata": {},
     "output_type": "execute_result"
    }
   ],
   "source": [
    "df_majority_up = resample(df_majority, \n",
    "                                 replace=True,     # sample with replacement\n",
    "                                 n_samples=147,   \n",
    "                                 random_state=42)\n",
    "df_majority_up.shape"
   ]
  },
  {
   "cell_type": "code",
   "execution_count": 18,
   "id": "958697b1",
   "metadata": {},
   "outputs": [
    {
     "data": {
      "text/plain": [
       "(294, 24)"
      ]
     },
     "execution_count": 18,
     "metadata": {},
     "output_type": "execute_result"
    }
   ],
   "source": [
    "df_up=pd.concat([df_majority_up, df_minority])\n",
    "df_up.shape"
   ]
  },
  {
   "cell_type": "code",
   "execution_count": 19,
   "id": "3ae00023",
   "metadata": {
    "scrolled": false
   },
   "outputs": [
    {
     "data": {
      "text/html": [
       "<div>\n",
       "<style scoped>\n",
       "    .dataframe tbody tr th:only-of-type {\n",
       "        vertical-align: middle;\n",
       "    }\n",
       "\n",
       "    .dataframe tbody tr th {\n",
       "        vertical-align: top;\n",
       "    }\n",
       "\n",
       "    .dataframe thead th {\n",
       "        text-align: right;\n",
       "    }\n",
       "</style>\n",
       "<table border=\"1\" class=\"dataframe\">\n",
       "  <thead>\n",
       "    <tr style=\"text-align: right;\">\n",
       "      <th></th>\n",
       "      <th>MDVP:Fo(Hz)</th>\n",
       "      <th>MDVP:Fhi(Hz)</th>\n",
       "      <th>MDVP:Flo(Hz)</th>\n",
       "      <th>MDVP:Jitter(%)</th>\n",
       "      <th>MDVP:Jitter(Abs)</th>\n",
       "      <th>MDVP:RAP</th>\n",
       "      <th>MDVP:PPQ</th>\n",
       "      <th>Jitter:DDP</th>\n",
       "      <th>MDVP:Shimmer</th>\n",
       "      <th>MDVP:Shimmer(dB)</th>\n",
       "      <th>...</th>\n",
       "      <th>NHR</th>\n",
       "      <th>HNR</th>\n",
       "      <th>RPDE</th>\n",
       "      <th>DFA</th>\n",
       "      <th>spread1</th>\n",
       "      <th>spread2</th>\n",
       "      <th>D2</th>\n",
       "      <th>PPE</th>\n",
       "      <th>status</th>\n",
       "      <th>predRF2</th>\n",
       "    </tr>\n",
       "  </thead>\n",
       "  <tbody>\n",
       "    <tr>\n",
       "      <th>43</th>\n",
       "      <td>241.404</td>\n",
       "      <td>248.834</td>\n",
       "      <td>232.483</td>\n",
       "      <td>0.00281</td>\n",
       "      <td>0.00001</td>\n",
       "      <td>0.00157</td>\n",
       "      <td>0.00173</td>\n",
       "      <td>0.00470</td>\n",
       "      <td>0.01760</td>\n",
       "      <td>0.154</td>\n",
       "      <td>...</td>\n",
       "      <td>0.00675</td>\n",
       "      <td>23.145</td>\n",
       "      <td>0.457702</td>\n",
       "      <td>0.634267</td>\n",
       "      <td>-6.793547</td>\n",
       "      <td>0.158266</td>\n",
       "      <td>2.256699</td>\n",
       "      <td>0.117399</td>\n",
       "      <td>0</td>\n",
       "      <td>0</td>\n",
       "    </tr>\n",
       "    <tr>\n",
       "      <th>191</th>\n",
       "      <td>209.516</td>\n",
       "      <td>253.017</td>\n",
       "      <td>89.488</td>\n",
       "      <td>0.00564</td>\n",
       "      <td>0.00003</td>\n",
       "      <td>0.00331</td>\n",
       "      <td>0.00292</td>\n",
       "      <td>0.00994</td>\n",
       "      <td>0.02751</td>\n",
       "      <td>0.263</td>\n",
       "      <td>...</td>\n",
       "      <td>0.01810</td>\n",
       "      <td>19.147</td>\n",
       "      <td>0.431674</td>\n",
       "      <td>0.683244</td>\n",
       "      <td>-6.195325</td>\n",
       "      <td>0.129303</td>\n",
       "      <td>2.784312</td>\n",
       "      <td>0.168895</td>\n",
       "      <td>0</td>\n",
       "      <td>0</td>\n",
       "    </tr>\n",
       "    <tr>\n",
       "      <th>194</th>\n",
       "      <td>214.289</td>\n",
       "      <td>260.277</td>\n",
       "      <td>77.973</td>\n",
       "      <td>0.00567</td>\n",
       "      <td>0.00003</td>\n",
       "      <td>0.00295</td>\n",
       "      <td>0.00317</td>\n",
       "      <td>0.00885</td>\n",
       "      <td>0.01884</td>\n",
       "      <td>0.190</td>\n",
       "      <td>...</td>\n",
       "      <td>0.04398</td>\n",
       "      <td>21.209</td>\n",
       "      <td>0.462803</td>\n",
       "      <td>0.664357</td>\n",
       "      <td>-5.724056</td>\n",
       "      <td>0.190667</td>\n",
       "      <td>2.555477</td>\n",
       "      <td>0.148569</td>\n",
       "      <td>0</td>\n",
       "      <td>0</td>\n",
       "    </tr>\n",
       "    <tr>\n",
       "      <th>90</th>\n",
       "      <td>166.605</td>\n",
       "      <td>206.008</td>\n",
       "      <td>78.032</td>\n",
       "      <td>0.00742</td>\n",
       "      <td>0.00004</td>\n",
       "      <td>0.00387</td>\n",
       "      <td>0.00453</td>\n",
       "      <td>0.01161</td>\n",
       "      <td>0.06640</td>\n",
       "      <td>0.634</td>\n",
       "      <td>...</td>\n",
       "      <td>0.08725</td>\n",
       "      <td>11.744</td>\n",
       "      <td>0.653410</td>\n",
       "      <td>0.733165</td>\n",
       "      <td>-4.508984</td>\n",
       "      <td>0.389232</td>\n",
       "      <td>3.317586</td>\n",
       "      <td>0.301952</td>\n",
       "      <td>1</td>\n",
       "      <td>1</td>\n",
       "    </tr>\n",
       "    <tr>\n",
       "      <th>87</th>\n",
       "      <td>176.281</td>\n",
       "      <td>227.381</td>\n",
       "      <td>125.610</td>\n",
       "      <td>0.00520</td>\n",
       "      <td>0.00003</td>\n",
       "      <td>0.00287</td>\n",
       "      <td>0.00312</td>\n",
       "      <td>0.00862</td>\n",
       "      <td>0.06511</td>\n",
       "      <td>0.580</td>\n",
       "      <td>...</td>\n",
       "      <td>0.04824</td>\n",
       "      <td>13.922</td>\n",
       "      <td>0.602874</td>\n",
       "      <td>0.740837</td>\n",
       "      <td>-5.515071</td>\n",
       "      <td>0.299549</td>\n",
       "      <td>3.136550</td>\n",
       "      <td>0.220968</td>\n",
       "      <td>1</td>\n",
       "      <td>1</td>\n",
       "    </tr>\n",
       "  </tbody>\n",
       "</table>\n",
       "<p>5 rows × 24 columns</p>\n",
       "</div>"
      ],
      "text/plain": [
       "     MDVP:Fo(Hz)  MDVP:Fhi(Hz)  MDVP:Flo(Hz)  MDVP:Jitter(%)  \\\n",
       "43       241.404       248.834       232.483         0.00281   \n",
       "191      209.516       253.017        89.488         0.00564   \n",
       "194      214.289       260.277        77.973         0.00567   \n",
       "90       166.605       206.008        78.032         0.00742   \n",
       "87       176.281       227.381       125.610         0.00520   \n",
       "\n",
       "     MDVP:Jitter(Abs)  MDVP:RAP  MDVP:PPQ  Jitter:DDP  MDVP:Shimmer  \\\n",
       "43            0.00001   0.00157   0.00173     0.00470       0.01760   \n",
       "191           0.00003   0.00331   0.00292     0.00994       0.02751   \n",
       "194           0.00003   0.00295   0.00317     0.00885       0.01884   \n",
       "90            0.00004   0.00387   0.00453     0.01161       0.06640   \n",
       "87            0.00003   0.00287   0.00312     0.00862       0.06511   \n",
       "\n",
       "     MDVP:Shimmer(dB)  ...      NHR     HNR      RPDE       DFA   spread1  \\\n",
       "43              0.154  ...  0.00675  23.145  0.457702  0.634267 -6.793547   \n",
       "191             0.263  ...  0.01810  19.147  0.431674  0.683244 -6.195325   \n",
       "194             0.190  ...  0.04398  21.209  0.462803  0.664357 -5.724056   \n",
       "90              0.634  ...  0.08725  11.744  0.653410  0.733165 -4.508984   \n",
       "87              0.580  ...  0.04824  13.922  0.602874  0.740837 -5.515071   \n",
       "\n",
       "      spread2        D2       PPE  status  predRF2  \n",
       "43   0.158266  2.256699  0.117399       0        0  \n",
       "191  0.129303  2.784312  0.168895       0        0  \n",
       "194  0.190667  2.555477  0.148569       0        0  \n",
       "90   0.389232  3.317586  0.301952       1        1  \n",
       "87   0.299549  3.136550  0.220968       1        1  \n",
       "\n",
       "[5 rows x 24 columns]"
      ]
     },
     "execution_count": 19,
     "metadata": {},
     "output_type": "execute_result"
    }
   ],
   "source": [
    "import numpy as np\n",
    "import pandas as pd\n",
    "from sklearn.model_selection import train_test_split\n",
    "from sklearn.ensemble import RandomForestClassifier\n",
    "\n",
    "feature_list = ['MDVP:Fo(Hz)', 'MDVP:Fhi(Hz)', 'MDVP:Flo(Hz)', 'MDVP:Jitter(%)', 'MDVP:Jitter(Abs)', 'MDVP:RAP', 'MDVP:PPQ', 'Jitter:DDP', 'MDVP:Shimmer', 'MDVP:Shimmer(dB)', 'Shimmer:APQ3', 'Shimmer:APQ5', 'MDVP:APQ', 'Shimmer:DDA', 'NHR', 'HNR', 'RPDE', 'DFA', 'spread1', 'spread2', 'D2', 'PPE']\n",
    "new_X = df_up[feature_list]\n",
    "new_y = df_up['status'] \n",
    "X_train, X_test, y_train, y_test = train_test_split(new_X, new_y, test_size=0.20)\n",
    "\n",
    "# Fit RandomForestClassifier and get predicted probabilities\n",
    "predRF2_proba = RandomForestClassifier().fit(X_train, y_train).predict_proba(X_test)\n",
    "\n",
    "# Round predicted probabilities to 0 or 1\n",
    "predRF2 = np.where(predRF2_proba >= 0.5, 1, 0)\n",
    "\n",
    "# Create a new DataFrame to store the results\n",
    "df = X_test.copy()\n",
    "df['status'] = y_test\n",
    "df['predRF2'] = predRF2[:, 1]  # Update to select the second column of predRF2 (probabilities of positive class)\n",
    "\n",
    "df.head()\n"
   ]
  },
  {
   "cell_type": "code",
   "execution_count": 20,
   "id": "ef9139aa",
   "metadata": {
    "scrolled": true
   },
   "outputs": [
    {
     "name": "stdout",
     "output_type": "stream",
     "text": [
      "              precision    recall  f1-score   support\n",
      "\n",
      "           0       0.96      1.00      0.98        26\n",
      "           1       1.00      0.97      0.98        33\n",
      "\n",
      "    accuracy                           0.98        59\n",
      "   macro avg       0.98      0.98      0.98        59\n",
      "weighted avg       0.98      0.98      0.98        59\n",
      "\n"
     ]
    }
   ],
   "source": [
    "print(classification_report(y_pred=df['predRF2'],\n",
    "                            y_true=df['status']))"
   ]
  },
  {
   "cell_type": "code",
   "execution_count": 21,
   "id": "ae257828",
   "metadata": {
    "scrolled": true
   },
   "outputs": [
    {
     "name": "stdout",
     "output_type": "stream",
     "text": [
      "predRF2: 0.9848484848484849\n"
     ]
    }
   ],
   "source": [
    "from sklearn.metrics import roc_auc_score\n",
    "\n",
    "roc_auc_score1 = roc_auc_score(y_true=df[['status']], y_score=df[['predRF2']])\n",
    "\n",
    "print('predRF2: ' + str(roc_auc_score1))"
   ]
  },
  {
   "cell_type": "code",
   "execution_count": 22,
   "id": "063530ba",
   "metadata": {
    "scrolled": false
   },
   "outputs": [
    {
     "data": {
      "text/html": [
       "<div>\n",
       "<style scoped>\n",
       "    .dataframe tbody tr th:only-of-type {\n",
       "        vertical-align: middle;\n",
       "    }\n",
       "\n",
       "    .dataframe tbody tr th {\n",
       "        vertical-align: top;\n",
       "    }\n",
       "\n",
       "    .dataframe thead th {\n",
       "        text-align: right;\n",
       "    }\n",
       "</style>\n",
       "<table border=\"1\" class=\"dataframe\">\n",
       "  <thead>\n",
       "    <tr style=\"text-align: right;\">\n",
       "      <th></th>\n",
       "      <th>fpr</th>\n",
       "      <th>tpr</th>\n",
       "      <th>threshold</th>\n",
       "    </tr>\n",
       "  </thead>\n",
       "  <tbody>\n",
       "    <tr>\n",
       "      <th>0</th>\n",
       "      <td>0.0</td>\n",
       "      <td>0.000000</td>\n",
       "      <td>2</td>\n",
       "    </tr>\n",
       "    <tr>\n",
       "      <th>1</th>\n",
       "      <td>0.0</td>\n",
       "      <td>0.969697</td>\n",
       "      <td>1</td>\n",
       "    </tr>\n",
       "    <tr>\n",
       "      <th>2</th>\n",
       "      <td>1.0</td>\n",
       "      <td>1.000000</td>\n",
       "      <td>0</td>\n",
       "    </tr>\n",
       "  </tbody>\n",
       "</table>\n",
       "</div>"
      ],
      "text/plain": [
       "   fpr       tpr  threshold\n",
       "0  0.0  0.000000          2\n",
       "1  0.0  0.969697          1\n",
       "2  1.0  1.000000          0"
      ]
     },
     "execution_count": 22,
     "metadata": {},
     "output_type": "execute_result"
    }
   ],
   "source": [
    "from sklearn.metrics import roc_curve, roc_auc_score\n",
    "\n",
    "# Assuming df is the DataFrame containing the predicted probabilities and true labels\n",
    "\n",
    "y_proba = df['predRF2'] # Update to select the 'predRF2' column from df\n",
    "fpr, tpr, threshold = roc_curve(y_test, y_proba) # Update to use y_test as true labels\n",
    "auc = roc_auc_score(y_test, y_proba) # Update to use y_test as true labels\n",
    "\n",
    "results = pd.DataFrame({'fpr': fpr, 'tpr': tpr, 'threshold': threshold})\n",
    "results.head()\n"
   ]
  },
  {
   "cell_type": "code",
   "execution_count": 23,
   "id": "d7fdec9a",
   "metadata": {
    "scrolled": true
   },
   "outputs": [
    {
     "data": {
      "image/png": "[encoded data removed]",
      "text/plain": [
       "<Figure size 640x480 with 1 Axes>"
      ]
     },
     "metadata": {},
     "output_type": "display_data"
    },
    {
     "data": {
      "text/plain": [
       "<ggplot: (118636404535)>"
      ]
     },
     "execution_count": 23,
     "metadata": {},
     "output_type": "execute_result"
    }
   ],
   "source": [
    "(ggplot(data=results, mapping=aes(x='fpr', y='tpr'))+\n",
    "geom_line(color='steelblue')+\n",
    "ggtitle(f'AUC={auc}')+\n",
    "geom_abline(linetype='dashed', color='darkorange')+\n",
    " ylab(\"True Positive Rate\")+\n",
    " xlab(\"False Positive Rate\")+\n",
    " theme_bw()\n",
    ")"
   ]
  },
  {
   "cell_type": "code",
   "execution_count": 24,
   "id": "fb1b860c",
   "metadata": {},
   "outputs": [],
   "source": [
    "\n",
    "X = df[feature_list]\n",
    "y = df['status']"
   ]
  },
  {
   "cell_type": "code",
   "execution_count": 25,
   "id": "c6611609",
   "metadata": {
    "scrolled": false
   },
   "outputs": [
    {
     "data": {
      "text/plain": [
       "array([1.        , 1.        , 0.68571429, 1.        , 1.        ])"
      ]
     },
     "execution_count": 25,
     "metadata": {},
     "output_type": "execute_result"
    }
   ],
   "source": [
    "cross_val_score(RandomForestClassifier(), X, y, scoring=\"roc_auc\", cv = 5)"
   ]
  },
  {
   "cell_type": "code",
   "execution_count": 26,
   "id": "f479fd72",
   "metadata": {
    "scrolled": true
   },
   "outputs": [
    {
     "data": {
      "text/html": [
       "<div>\n",
       "<style scoped>\n",
       "    .dataframe tbody tr th:only-of-type {\n",
       "        vertical-align: middle;\n",
       "    }\n",
       "\n",
       "    .dataframe tbody tr th {\n",
       "        vertical-align: top;\n",
       "    }\n",
       "\n",
       "    .dataframe thead th {\n",
       "        text-align: right;\n",
       "    }\n",
       "</style>\n",
       "<table border=\"1\" class=\"dataframe\">\n",
       "  <thead>\n",
       "    <tr style=\"text-align: right;\">\n",
       "      <th></th>\n",
       "      <th>AUC</th>\n",
       "      <th>depth</th>\n",
       "    </tr>\n",
       "  </thead>\n",
       "  <tbody>\n",
       "    <tr>\n",
       "      <th>0</th>\n",
       "      <td>0.822381</td>\n",
       "      <td>1</td>\n",
       "    </tr>\n",
       "    <tr>\n",
       "      <th>1</th>\n",
       "      <td>0.880317</td>\n",
       "      <td>2</td>\n",
       "    </tr>\n",
       "    <tr>\n",
       "      <th>2</th>\n",
       "      <td>0.914444</td>\n",
       "      <td>3</td>\n",
       "    </tr>\n",
       "    <tr>\n",
       "      <th>3</th>\n",
       "      <td>0.913333</td>\n",
       "      <td>4</td>\n",
       "    </tr>\n",
       "    <tr>\n",
       "      <th>4</th>\n",
       "      <td>0.897302</td>\n",
       "      <td>5</td>\n",
       "    </tr>\n",
       "    <tr>\n",
       "      <th>5</th>\n",
       "      <td>0.925714</td>\n",
       "      <td>6</td>\n",
       "    </tr>\n",
       "    <tr>\n",
       "      <th>6</th>\n",
       "      <td>0.937302</td>\n",
       "      <td>7</td>\n",
       "    </tr>\n",
       "    <tr>\n",
       "      <th>7</th>\n",
       "      <td>0.933413</td>\n",
       "      <td>8</td>\n",
       "    </tr>\n",
       "    <tr>\n",
       "      <th>8</th>\n",
       "      <td>0.908730</td>\n",
       "      <td>9</td>\n",
       "    </tr>\n",
       "    <tr>\n",
       "      <th>9</th>\n",
       "      <td>0.920159</td>\n",
       "      <td>10</td>\n",
       "    </tr>\n",
       "    <tr>\n",
       "      <th>10</th>\n",
       "      <td>0.931429</td>\n",
       "      <td>11</td>\n",
       "    </tr>\n",
       "    <tr>\n",
       "      <th>11</th>\n",
       "      <td>0.884921</td>\n",
       "      <td>12</td>\n",
       "    </tr>\n",
       "    <tr>\n",
       "      <th>12</th>\n",
       "      <td>0.925714</td>\n",
       "      <td>13</td>\n",
       "    </tr>\n",
       "    <tr>\n",
       "      <th>13</th>\n",
       "      <td>0.916270</td>\n",
       "      <td>14</td>\n",
       "    </tr>\n",
       "    <tr>\n",
       "      <th>14</th>\n",
       "      <td>0.931429</td>\n",
       "      <td>15</td>\n",
       "    </tr>\n",
       "    <tr>\n",
       "      <th>15</th>\n",
       "      <td>0.908254</td>\n",
       "      <td>16</td>\n",
       "    </tr>\n",
       "    <tr>\n",
       "      <th>16</th>\n",
       "      <td>0.905952</td>\n",
       "      <td>17</td>\n",
       "    </tr>\n",
       "    <tr>\n",
       "      <th>17</th>\n",
       "      <td>0.931429</td>\n",
       "      <td>18</td>\n",
       "    </tr>\n",
       "    <tr>\n",
       "      <th>18</th>\n",
       "      <td>0.914444</td>\n",
       "      <td>19</td>\n",
       "    </tr>\n",
       "    <tr>\n",
       "      <th>19</th>\n",
       "      <td>0.919524</td>\n",
       "      <td>20</td>\n",
       "    </tr>\n",
       "    <tr>\n",
       "      <th>20</th>\n",
       "      <td>0.921032</td>\n",
       "      <td>21</td>\n",
       "    </tr>\n",
       "    <tr>\n",
       "      <th>21</th>\n",
       "      <td>0.903016</td>\n",
       "      <td>22</td>\n",
       "    </tr>\n",
       "    <tr>\n",
       "      <th>22</th>\n",
       "      <td>0.914444</td>\n",
       "      <td>23</td>\n",
       "    </tr>\n",
       "    <tr>\n",
       "      <th>23</th>\n",
       "      <td>0.913810</td>\n",
       "      <td>24</td>\n",
       "    </tr>\n",
       "    <tr>\n",
       "      <th>24</th>\n",
       "      <td>0.926825</td>\n",
       "      <td>25</td>\n",
       "    </tr>\n",
       "    <tr>\n",
       "      <th>25</th>\n",
       "      <td>0.903968</td>\n",
       "      <td>26</td>\n",
       "    </tr>\n",
       "    <tr>\n",
       "      <th>26</th>\n",
       "      <td>0.920159</td>\n",
       "      <td>27</td>\n",
       "    </tr>\n",
       "    <tr>\n",
       "      <th>27</th>\n",
       "      <td>0.922222</td>\n",
       "      <td>28</td>\n",
       "    </tr>\n",
       "    <tr>\n",
       "      <th>28</th>\n",
       "      <td>0.931429</td>\n",
       "      <td>29</td>\n",
       "    </tr>\n",
       "  </tbody>\n",
       "</table>\n",
       "</div>"
      ],
      "text/plain": [
       "         AUC  depth\n",
       "0   0.822381      1\n",
       "1   0.880317      2\n",
       "2   0.914444      3\n",
       "3   0.913333      4\n",
       "4   0.897302      5\n",
       "5   0.925714      6\n",
       "6   0.937302      7\n",
       "7   0.933413      8\n",
       "8   0.908730      9\n",
       "9   0.920159     10\n",
       "10  0.931429     11\n",
       "11  0.884921     12\n",
       "12  0.925714     13\n",
       "13  0.916270     14\n",
       "14  0.931429     15\n",
       "15  0.908254     16\n",
       "16  0.905952     17\n",
       "17  0.931429     18\n",
       "18  0.914444     19\n",
       "19  0.919524     20\n",
       "20  0.921032     21\n",
       "21  0.903016     22\n",
       "22  0.914444     23\n",
       "23  0.913810     24\n",
       "24  0.926825     25\n",
       "25  0.903968     26\n",
       "26  0.920159     27\n",
       "27  0.922222     28\n",
       "28  0.931429     29"
      ]
     },
     "execution_count": 26,
     "metadata": {},
     "output_type": "execute_result"
    }
   ],
   "source": [
    "scoresrf=[cross_val_score(RandomForestClassifier(n_estimators=100,\n",
    "                                 max_depth=i),X,y,\n",
    "                          scoring=\"roc_auc\",\n",
    "                          cv=5).mean() for i in list(range(1,30))\n",
    "    ]\n",
    "rfdf=pd.DataFrame(scoresrf, columns=['AUC'])\n",
    "rfdf['depth']=range(1,30)\n",
    "rfdf"
   ]
  },
  {
   "cell_type": "code",
   "execution_count": 27,
   "id": "f08db0ec",
   "metadata": {
    "scrolled": true
   },
   "outputs": [
    {
     "data": {
      "image/png": "[encoded data removed]",
      "text/plain": [
       "<Figure size 640x480 with 1 Axes>"
      ]
     },
     "metadata": {},
     "output_type": "display_data"
    },
    {
     "data": {
      "text/plain": [
       "<ggplot: (118636484184)>"
      ]
     },
     "execution_count": 27,
     "metadata": {},
     "output_type": "execute_result"
    }
   ],
   "source": [
    "(ggplot(data=rfdf, mapping=aes(x='depth', y='AUC'))+\n",
    "       geom_line(color='steelblue')+\n",
    " scale_x_continuous(breaks=np.arange(1,30, 1))+\n",
    " ggtitle('5-fold cross validation AUC scores')+\n",
    "theme_bw())"
   ]
  },
  {
   "cell_type": "code",
   "execution_count": 28,
   "id": "f8d004ab",
   "metadata": {
    "scrolled": true
   },
   "outputs": [
    {
     "data": {
      "text/html": [
       "<div>\n",
       "<style scoped>\n",
       "    .dataframe tbody tr th:only-of-type {\n",
       "        vertical-align: middle;\n",
       "    }\n",
       "\n",
       "    .dataframe tbody tr th {\n",
       "        vertical-align: top;\n",
       "    }\n",
       "\n",
       "    .dataframe thead th {\n",
       "        text-align: right;\n",
       "    }\n",
       "</style>\n",
       "<table border=\"1\" class=\"dataframe\">\n",
       "  <thead>\n",
       "    <tr style=\"text-align: right;\">\n",
       "      <th></th>\n",
       "      <th>AUC</th>\n",
       "      <th>depth</th>\n",
       "    </tr>\n",
       "  </thead>\n",
       "  <tbody>\n",
       "    <tr>\n",
       "      <th>6</th>\n",
       "      <td>0.937302</td>\n",
       "      <td>7</td>\n",
       "    </tr>\n",
       "  </tbody>\n",
       "</table>\n",
       "</div>"
      ],
      "text/plain": [
       "        AUC  depth\n",
       "6  0.937302      7"
      ]
     },
     "execution_count": 28,
     "metadata": {},
     "output_type": "execute_result"
    }
   ],
   "source": [
    "#Let's find the optimal  depth\n",
    "rfdf.loc[rfdf['AUC']==rfdf['AUC'].max(),:]"
   ]
  },
  {
   "cell_type": "code",
   "execution_count": 29,
   "id": "d313484a",
   "metadata": {},
   "outputs": [
    {
     "data": {
      "text/html": [
       "<div>\n",
       "<style scoped>\n",
       "    .dataframe tbody tr th:only-of-type {\n",
       "        vertical-align: middle;\n",
       "    }\n",
       "\n",
       "    .dataframe tbody tr th {\n",
       "        vertical-align: top;\n",
       "    }\n",
       "\n",
       "    .dataframe thead th {\n",
       "        text-align: right;\n",
       "    }\n",
       "</style>\n",
       "<table border=\"1\" class=\"dataframe\">\n",
       "  <thead>\n",
       "    <tr style=\"text-align: right;\">\n",
       "      <th></th>\n",
       "      <th>AUC</th>\n",
       "      <th>depth</th>\n",
       "    </tr>\n",
       "  </thead>\n",
       "  <tbody>\n",
       "    <tr>\n",
       "      <th>2</th>\n",
       "      <td>0.914444</td>\n",
       "      <td>3</td>\n",
       "    </tr>\n",
       "  </tbody>\n",
       "</table>\n",
       "</div>"
      ],
      "text/plain": [
       "        AUC  depth\n",
       "2  0.914444      3"
      ]
     },
     "execution_count": 29,
     "metadata": {},
     "output_type": "execute_result"
    }
   ],
   "source": [
    "# Even though top is around twently it, around 3 is the best (given the fact we desire least amount of depth as well)\n",
    "# since its accuracy jumps around the AUC value after that depth\n",
    "# this turned out to receive a very high AUC score. \n",
    "# However, it is not overfitting as I split the training \n",
    "# and tested and tested it only on the testing data\n",
    "rfdf.loc[rfdf['depth']==3,:]"
   ]
  },
  {
   "cell_type": "markdown",
   "id": "c0f18793",
   "metadata": {},
   "source": [
    "Problem 3\n",
    "\n",
    "Dataset for final project Initial ideas:  Find 2 possible open datasets (or a way to construct a dataset), and present the following:\n",
    "\n",
    "Context of the dataset: What is interesting about the dataset? What questions could you ask that are interesting? How would you first explore the data? (No need to perform exploration at this moment)\n",
    "\n",
    "Here are some places to find datasets:\n",
    "\n",
    "https://www.kdnuggets.com/datasets/index.html\n",
    "\n",
    "Methodology: How do you think you want to answer your question? \n",
    "\n",
    "Present links for references if available. "
   ]
  }
 ],
 "metadata": {
  "kernelspec": {
   "display_name": "Python 3 (ipykernel)",
   "language": "python",
   "name": "python3"
  },
  "language_info": {
   "codemirror_mode": {
    "name": "ipython",
    "version": 3
   },
   "file_extension": ".py",
   "mimetype": "text/x-python",
   "name": "python",
   "nbconvert_exporter": "python",
   "pygments_lexer": "ipython3",
   "version": "3.9.12"
  }
 },
 "nbformat": 4,
 "nbformat_minor": 5
}
